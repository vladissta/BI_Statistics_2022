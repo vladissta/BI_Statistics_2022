{
 "cells": [
  {
   "cell_type": "markdown",
   "id": "78bb1c2f",
   "metadata": {},
   "source": [
    "# PROJECT 1\n",
    "Stanin Vladislav"
   ]
  },
  {
   "cell_type": "markdown",
   "id": "61404ab9",
   "metadata": {},
   "source": [
    "### Importing requirements"
   ]
  },
  {
   "cell_type": "code",
   "execution_count": 1,
   "id": "f971e3be-6fe3-4006-b981-2c6868d5c62c",
   "metadata": {},
   "outputs": [],
   "source": [
    "import pandas as pd\n",
    "import glob\n",
    "import matplotlib.pyplot as plt\n",
    "import seaborn as sns\n",
    "import scipy.stats as stats"
   ]
  },
  {
   "cell_type": "markdown",
   "id": "c057178a",
   "metadata": {},
   "source": [
    "### Function that rquires path, file extension and separator to parse all files in path and concate them all in one dataframe\n",
    "For example, situation can happen, when files are with .txt file extension and separator in them is ','"
   ]
  },
  {
   "cell_type": "code",
   "execution_count": 2,
   "id": "b183d86d-b2ab-45b8-8d90-4e1ed3eedcb8",
   "metadata": {},
   "outputs": [],
   "source": [
    "def concat_files(path, separator, file_extension):\n",
    "    all_files = glob.glob(f'{path}/*.{file_extension}')\n",
    "    df = pd.concat([pd.read_table(file, sep=separator) for file in all_files])\n",
    "    return df"
   ]
  },
  {
   "cell_type": "markdown",
   "id": "b0e5c794",
   "metadata": {},
   "source": [
    "#### Concating data about athletes"
   ]
  },
  {
   "cell_type": "code",
   "execution_count": 3,
   "id": "8f8f8fd7-c68d-4e99-9cf3-c31e5d870ed2",
   "metadata": {},
   "outputs": [],
   "source": [
    "df = concat_files('../data/athlete_events', ',', 'csv')"
   ]
  },
  {
   "cell_type": "code",
   "execution_count": 4,
   "id": "77491ffc-52b0-4b98-8803-3ee84a15ebbf",
   "metadata": {},
   "outputs": [
    {
     "data": {
      "text/html": [
       "<div>\n",
       "<style scoped>\n",
       "    .dataframe tbody tr th:only-of-type {\n",
       "        vertical-align: middle;\n",
       "    }\n",
       "\n",
       "    .dataframe tbody tr th {\n",
       "        vertical-align: top;\n",
       "    }\n",
       "\n",
       "    .dataframe thead th {\n",
       "        text-align: right;\n",
       "    }\n",
       "</style>\n",
       "<table border=\"1\" class=\"dataframe\">\n",
       "  <thead>\n",
       "    <tr style=\"text-align: right;\">\n",
       "      <th></th>\n",
       "      <th>ID</th>\n",
       "      <th>Name</th>\n",
       "      <th>Sex</th>\n",
       "      <th>Age</th>\n",
       "      <th>Height</th>\n",
       "      <th>Weight</th>\n",
       "      <th>Team</th>\n",
       "      <th>NOC</th>\n",
       "      <th>Games</th>\n",
       "      <th>Year</th>\n",
       "      <th>Season</th>\n",
       "      <th>City</th>\n",
       "      <th>Sport</th>\n",
       "      <th>Event</th>\n",
       "      <th>Medal</th>\n",
       "    </tr>\n",
       "  </thead>\n",
       "  <tbody>\n",
       "    <tr>\n",
       "      <th>0</th>\n",
       "      <td>91138</td>\n",
       "      <td>Anton Dmitriyevich Pantov</td>\n",
       "      <td>M</td>\n",
       "      <td>22.0</td>\n",
       "      <td>187.0</td>\n",
       "      <td>77.0</td>\n",
       "      <td>Kazakhstan</td>\n",
       "      <td>KAZ</td>\n",
       "      <td>2014 Winter</td>\n",
       "      <td>2014.0</td>\n",
       "      <td>Winter</td>\n",
       "      <td>Sochi</td>\n",
       "      <td>Biathlon</td>\n",
       "      <td>Biathlon Men's 10 kilometres Sprint</td>\n",
       "      <td>NaN</td>\n",
       "    </tr>\n",
       "    <tr>\n",
       "      <th>1</th>\n",
       "      <td>91138</td>\n",
       "      <td>Anton Dmitriyevich Pantov</td>\n",
       "      <td>M</td>\n",
       "      <td>22.0</td>\n",
       "      <td>187.0</td>\n",
       "      <td>77.0</td>\n",
       "      <td>Kazakhstan</td>\n",
       "      <td>KAZ</td>\n",
       "      <td>2014 Winter</td>\n",
       "      <td>2014.0</td>\n",
       "      <td>Winter</td>\n",
       "      <td>Sochi</td>\n",
       "      <td>Biathlon</td>\n",
       "      <td>Biathlon Mixed 2 x 6 kilometres and 2 x 7.5 ki...</td>\n",
       "      <td>NaN</td>\n",
       "    </tr>\n",
       "    <tr>\n",
       "      <th>2</th>\n",
       "      <td>91138</td>\n",
       "      <td>Anton Dmitriyevich Pantov</td>\n",
       "      <td>M</td>\n",
       "      <td>22.0</td>\n",
       "      <td>187.0</td>\n",
       "      <td>77.0</td>\n",
       "      <td>Kazakhstan</td>\n",
       "      <td>KAZ</td>\n",
       "      <td>2014 Winter</td>\n",
       "      <td>2014.0</td>\n",
       "      <td>Winter</td>\n",
       "      <td>Sochi</td>\n",
       "      <td>Biathlon</td>\n",
       "      <td>Biathlon Men's 20 kilometres</td>\n",
       "      <td>NaN</td>\n",
       "    </tr>\n",
       "  </tbody>\n",
       "</table>\n",
       "</div>"
      ],
      "text/plain": [
       "      ID                       Name Sex   Age  Height  Weight        Team  \\\n",
       "0  91138  Anton Dmitriyevich Pantov   M  22.0   187.0    77.0  Kazakhstan   \n",
       "1  91138  Anton Dmitriyevich Pantov   M  22.0   187.0    77.0  Kazakhstan   \n",
       "2  91138  Anton Dmitriyevich Pantov   M  22.0   187.0    77.0  Kazakhstan   \n",
       "\n",
       "   NOC        Games    Year  Season   City     Sport  \\\n",
       "0  KAZ  2014 Winter  2014.0  Winter  Sochi  Biathlon   \n",
       "1  KAZ  2014 Winter  2014.0  Winter  Sochi  Biathlon   \n",
       "2  KAZ  2014 Winter  2014.0  Winter  Sochi  Biathlon   \n",
       "\n",
       "                                               Event Medal  \n",
       "0                Biathlon Men's 10 kilometres Sprint   NaN  \n",
       "1  Biathlon Mixed 2 x 6 kilometres and 2 x 7.5 ki...   NaN  \n",
       "2                       Biathlon Men's 20 kilometres   NaN  "
      ]
     },
     "execution_count": 4,
     "metadata": {},
     "output_type": "execute_result"
    }
   ],
   "source": [
    "df.head(3)"
   ]
  },
  {
   "cell_type": "markdown",
   "id": "21d48868-3e17-45a1-884e-17889a6ba253",
   "metadata": {},
   "source": [
    "## Checking the Data"
   ]
  },
  {
   "cell_type": "markdown",
   "id": "1bf90365",
   "metadata": {},
   "source": [
    "#### Checking types of variables"
   ]
  },
  {
   "cell_type": "code",
   "execution_count": 5,
   "id": "6e64d505",
   "metadata": {},
   "outputs": [
    {
     "name": "stdout",
     "output_type": "stream",
     "text": [
      "<class 'pandas.core.frame.DataFrame'>\n",
      "Int64Index: 271115 entries, 0 to 22390\n",
      "Data columns (total 15 columns):\n",
      " #   Column  Non-Null Count   Dtype  \n",
      "---  ------  --------------   -----  \n",
      " 0   ID      271115 non-null  int64  \n",
      " 1   Name    271114 non-null  object \n",
      " 2   Sex     271113 non-null  object \n",
      " 3   Age     261639 non-null  float64\n",
      " 4   Height  210943 non-null  float64\n",
      " 5   Weight  208239 non-null  float64\n",
      " 6   Team    271112 non-null  object \n",
      " 7   NOC     271111 non-null  object \n",
      " 8   Games   271110 non-null  object \n",
      " 9   Year    271108 non-null  float64\n",
      " 10  Season  271108 non-null  object \n",
      " 11  City    271108 non-null  object \n",
      " 12  Sport   271108 non-null  object \n",
      " 13  Event   271107 non-null  object \n",
      " 14  Medal   39782 non-null   object \n",
      "dtypes: float64(4), int64(1), object(10)\n",
      "memory usage: 33.1+ MB\n"
     ]
    }
   ],
   "source": [
    "df.info(show_counts=True)"
   ]
  },
  {
   "cell_type": "markdown",
   "id": "272d89e7",
   "metadata": {},
   "source": [
    "#### Checking common statistics of variables"
   ]
  },
  {
   "cell_type": "code",
   "execution_count": 6,
   "id": "2a9d591b-af25-4793-8a56-e6c409006898",
   "metadata": {},
   "outputs": [
    {
     "data": {
      "text/html": [
       "<div>\n",
       "<style scoped>\n",
       "    .dataframe tbody tr th:only-of-type {\n",
       "        vertical-align: middle;\n",
       "    }\n",
       "\n",
       "    .dataframe tbody tr th {\n",
       "        vertical-align: top;\n",
       "    }\n",
       "\n",
       "    .dataframe thead th {\n",
       "        text-align: right;\n",
       "    }\n",
       "</style>\n",
       "<table border=\"1\" class=\"dataframe\">\n",
       "  <thead>\n",
       "    <tr style=\"text-align: right;\">\n",
       "      <th></th>\n",
       "      <th>ID</th>\n",
       "      <th>Name</th>\n",
       "      <th>Sex</th>\n",
       "      <th>Age</th>\n",
       "      <th>Height</th>\n",
       "      <th>Weight</th>\n",
       "      <th>Team</th>\n",
       "      <th>NOC</th>\n",
       "      <th>Games</th>\n",
       "      <th>Year</th>\n",
       "      <th>Season</th>\n",
       "      <th>City</th>\n",
       "      <th>Sport</th>\n",
       "      <th>Event</th>\n",
       "      <th>Medal</th>\n",
       "    </tr>\n",
       "  </thead>\n",
       "  <tbody>\n",
       "    <tr>\n",
       "      <th>count</th>\n",
       "      <td>271115.000000</td>\n",
       "      <td>271114</td>\n",
       "      <td>271113</td>\n",
       "      <td>261639.000000</td>\n",
       "      <td>210943.000000</td>\n",
       "      <td>208239.000000</td>\n",
       "      <td>271112</td>\n",
       "      <td>271111</td>\n",
       "      <td>271110</td>\n",
       "      <td>271108.000000</td>\n",
       "      <td>271108</td>\n",
       "      <td>271108</td>\n",
       "      <td>271108</td>\n",
       "      <td>271107</td>\n",
       "      <td>39782</td>\n",
       "    </tr>\n",
       "    <tr>\n",
       "      <th>unique</th>\n",
       "      <td>NaN</td>\n",
       "      <td>134732</td>\n",
       "      <td>3</td>\n",
       "      <td>NaN</td>\n",
       "      <td>NaN</td>\n",
       "      <td>NaN</td>\n",
       "      <td>1184</td>\n",
       "      <td>231</td>\n",
       "      <td>53</td>\n",
       "      <td>NaN</td>\n",
       "      <td>2</td>\n",
       "      <td>42</td>\n",
       "      <td>67</td>\n",
       "      <td>766</td>\n",
       "      <td>3</td>\n",
       "    </tr>\n",
       "    <tr>\n",
       "      <th>top</th>\n",
       "      <td>NaN</td>\n",
       "      <td>Robert Tait McKenzie</td>\n",
       "      <td>M</td>\n",
       "      <td>NaN</td>\n",
       "      <td>NaN</td>\n",
       "      <td>NaN</td>\n",
       "      <td>United States</td>\n",
       "      <td>USA</td>\n",
       "      <td>2000 Summer</td>\n",
       "      <td>NaN</td>\n",
       "      <td>Summer</td>\n",
       "      <td>London</td>\n",
       "      <td>Athletics</td>\n",
       "      <td>Football Men's Football</td>\n",
       "      <td>Gold</td>\n",
       "    </tr>\n",
       "    <tr>\n",
       "      <th>freq</th>\n",
       "      <td>NaN</td>\n",
       "      <td>58</td>\n",
       "      <td>196588</td>\n",
       "      <td>NaN</td>\n",
       "      <td>NaN</td>\n",
       "      <td>NaN</td>\n",
       "      <td>17847</td>\n",
       "      <td>18853</td>\n",
       "      <td>13820</td>\n",
       "      <td>NaN</td>\n",
       "      <td>222544</td>\n",
       "      <td>22425</td>\n",
       "      <td>38623</td>\n",
       "      <td>5731</td>\n",
       "      <td>13372</td>\n",
       "    </tr>\n",
       "    <tr>\n",
       "      <th>mean</th>\n",
       "      <td>68248.828641</td>\n",
       "      <td>NaN</td>\n",
       "      <td>NaN</td>\n",
       "      <td>25.557669</td>\n",
       "      <td>175.339760</td>\n",
       "      <td>70.702232</td>\n",
       "      <td>NaN</td>\n",
       "      <td>NaN</td>\n",
       "      <td>NaN</td>\n",
       "      <td>1978.378314</td>\n",
       "      <td>NaN</td>\n",
       "      <td>NaN</td>\n",
       "      <td>NaN</td>\n",
       "      <td>NaN</td>\n",
       "      <td>NaN</td>\n",
       "    </tr>\n",
       "    <tr>\n",
       "      <th>std</th>\n",
       "      <td>39022.303374</td>\n",
       "      <td>NaN</td>\n",
       "      <td>NaN</td>\n",
       "      <td>6.407296</td>\n",
       "      <td>10.524619</td>\n",
       "      <td>14.348878</td>\n",
       "      <td>NaN</td>\n",
       "      <td>NaN</td>\n",
       "      <td>NaN</td>\n",
       "      <td>29.877579</td>\n",
       "      <td>NaN</td>\n",
       "      <td>NaN</td>\n",
       "      <td>NaN</td>\n",
       "      <td>NaN</td>\n",
       "      <td>NaN</td>\n",
       "    </tr>\n",
       "    <tr>\n",
       "      <th>min</th>\n",
       "      <td>1.000000</td>\n",
       "      <td>NaN</td>\n",
       "      <td>NaN</td>\n",
       "      <td>10.000000</td>\n",
       "      <td>127.000000</td>\n",
       "      <td>7.000000</td>\n",
       "      <td>NaN</td>\n",
       "      <td>NaN</td>\n",
       "      <td>NaN</td>\n",
       "      <td>1896.000000</td>\n",
       "      <td>NaN</td>\n",
       "      <td>NaN</td>\n",
       "      <td>NaN</td>\n",
       "      <td>NaN</td>\n",
       "      <td>NaN</td>\n",
       "    </tr>\n",
       "    <tr>\n",
       "      <th>25%</th>\n",
       "      <td>34643.000000</td>\n",
       "      <td>NaN</td>\n",
       "      <td>NaN</td>\n",
       "      <td>21.000000</td>\n",
       "      <td>168.000000</td>\n",
       "      <td>60.000000</td>\n",
       "      <td>NaN</td>\n",
       "      <td>NaN</td>\n",
       "      <td>NaN</td>\n",
       "      <td>1960.000000</td>\n",
       "      <td>NaN</td>\n",
       "      <td>NaN</td>\n",
       "      <td>NaN</td>\n",
       "      <td>NaN</td>\n",
       "      <td>NaN</td>\n",
       "    </tr>\n",
       "    <tr>\n",
       "      <th>50%</th>\n",
       "      <td>68205.000000</td>\n",
       "      <td>NaN</td>\n",
       "      <td>NaN</td>\n",
       "      <td>24.000000</td>\n",
       "      <td>175.000000</td>\n",
       "      <td>70.000000</td>\n",
       "      <td>NaN</td>\n",
       "      <td>NaN</td>\n",
       "      <td>NaN</td>\n",
       "      <td>1988.000000</td>\n",
       "      <td>NaN</td>\n",
       "      <td>NaN</td>\n",
       "      <td>NaN</td>\n",
       "      <td>NaN</td>\n",
       "      <td>NaN</td>\n",
       "    </tr>\n",
       "    <tr>\n",
       "      <th>75%</th>\n",
       "      <td>102097.000000</td>\n",
       "      <td>NaN</td>\n",
       "      <td>NaN</td>\n",
       "      <td>28.000000</td>\n",
       "      <td>183.000000</td>\n",
       "      <td>79.000000</td>\n",
       "      <td>NaN</td>\n",
       "      <td>NaN</td>\n",
       "      <td>NaN</td>\n",
       "      <td>2002.000000</td>\n",
       "      <td>NaN</td>\n",
       "      <td>NaN</td>\n",
       "      <td>NaN</td>\n",
       "      <td>NaN</td>\n",
       "      <td>NaN</td>\n",
       "    </tr>\n",
       "    <tr>\n",
       "      <th>max</th>\n",
       "      <td>135571.000000</td>\n",
       "      <td>NaN</td>\n",
       "      <td>NaN</td>\n",
       "      <td>240.000000</td>\n",
       "      <td>340.000000</td>\n",
       "      <td>214.000000</td>\n",
       "      <td>NaN</td>\n",
       "      <td>NaN</td>\n",
       "      <td>NaN</td>\n",
       "      <td>2016.000000</td>\n",
       "      <td>NaN</td>\n",
       "      <td>NaN</td>\n",
       "      <td>NaN</td>\n",
       "      <td>NaN</td>\n",
       "      <td>NaN</td>\n",
       "    </tr>\n",
       "  </tbody>\n",
       "</table>\n",
       "</div>"
      ],
      "text/plain": [
       "                   ID                  Name     Sex            Age  \\\n",
       "count   271115.000000                271114  271113  261639.000000   \n",
       "unique            NaN                134732       3            NaN   \n",
       "top               NaN  Robert Tait McKenzie       M            NaN   \n",
       "freq              NaN                    58  196588            NaN   \n",
       "mean     68248.828641                   NaN     NaN      25.557669   \n",
       "std      39022.303374                   NaN     NaN       6.407296   \n",
       "min          1.000000                   NaN     NaN      10.000000   \n",
       "25%      34643.000000                   NaN     NaN      21.000000   \n",
       "50%      68205.000000                   NaN     NaN      24.000000   \n",
       "75%     102097.000000                   NaN     NaN      28.000000   \n",
       "max     135571.000000                   NaN     NaN     240.000000   \n",
       "\n",
       "               Height         Weight           Team     NOC        Games  \\\n",
       "count   210943.000000  208239.000000         271112  271111       271110   \n",
       "unique            NaN            NaN           1184     231           53   \n",
       "top               NaN            NaN  United States     USA  2000 Summer   \n",
       "freq              NaN            NaN          17847   18853        13820   \n",
       "mean       175.339760      70.702232            NaN     NaN          NaN   \n",
       "std         10.524619      14.348878            NaN     NaN          NaN   \n",
       "min        127.000000       7.000000            NaN     NaN          NaN   \n",
       "25%        168.000000      60.000000            NaN     NaN          NaN   \n",
       "50%        175.000000      70.000000            NaN     NaN          NaN   \n",
       "75%        183.000000      79.000000            NaN     NaN          NaN   \n",
       "max        340.000000     214.000000            NaN     NaN          NaN   \n",
       "\n",
       "                 Year  Season    City      Sport                    Event  \\\n",
       "count   271108.000000  271108  271108     271108                   271107   \n",
       "unique            NaN       2      42         67                      766   \n",
       "top               NaN  Summer  London  Athletics  Football Men's Football   \n",
       "freq              NaN  222544   22425      38623                     5731   \n",
       "mean      1978.378314     NaN     NaN        NaN                      NaN   \n",
       "std         29.877579     NaN     NaN        NaN                      NaN   \n",
       "min       1896.000000     NaN     NaN        NaN                      NaN   \n",
       "25%       1960.000000     NaN     NaN        NaN                      NaN   \n",
       "50%       1988.000000     NaN     NaN        NaN                      NaN   \n",
       "75%       2002.000000     NaN     NaN        NaN                      NaN   \n",
       "max       2016.000000     NaN     NaN        NaN                      NaN   \n",
       "\n",
       "        Medal  \n",
       "count   39782  \n",
       "unique      3  \n",
       "top      Gold  \n",
       "freq    13372  \n",
       "mean      NaN  \n",
       "std       NaN  \n",
       "min       NaN  \n",
       "25%       NaN  \n",
       "50%       NaN  \n",
       "75%       NaN  \n",
       "max       NaN  "
      ]
     },
     "execution_count": 6,
     "metadata": {},
     "output_type": "execute_result"
    }
   ],
   "source": [
    "df.describe(include = 'all')"
   ]
  },
  {
   "cell_type": "code",
   "execution_count": 7,
   "id": "d7da0dfe",
   "metadata": {},
   "outputs": [
    {
     "name": "stdout",
     "output_type": "stream",
     "text": [
      "['M' 'F' nan 'G']\n",
      "['Kazakhstan' 'Ghana' 'Finland' ... 'Solos Carex' 'Dow Jones' 'Digby']\n",
      "['2014 Winter' '1994 Winter' '1998 Winter' '2002 Winter' '2004 Summer'\n",
      " '2000 Summer' '1956 Winter' '1960 Winter' '2016 Summer' '1964 Winter'\n",
      " '1968 Winter' '1972 Winter' '1976 Winter' '2008 Summer' '2012 Summer'\n",
      " '1906 Summer' '1980 Summer' '1948 Summer' '1956 Summer' '1984 Summer'\n",
      " '1992 Summer' '1992 Winter' '1968 Summer' '1924 Summer' '2010 Winter'\n",
      " '1900 Summer' '1912 Summer' '1920 Summer' '1928 Summer' '1964 Summer'\n",
      " '1976 Summer' '1996 Summer' '1972 Summer' '1936 Summer' '1952 Summer'\n",
      " '1960 Summer' '1896 Summer' '1932 Winter' '1988 Summer' '1932 Summer'\n",
      " '1908 Summer' '1952 Winter' '1984 Winter' '2006 Winter' '1988 Winter'\n",
      " '1928 Winter' '1948 Winter' '1936 Winter' '1904 Summer' '1980 Winter'\n",
      " '1924 Winter' nan '2004 Summe' '2000 Su']\n",
      "['Winter' 'Summer' nan]\n",
      "['Sochi' 'Lillehammer' 'Nagano' 'Salt Lake City' 'Athina' 'Sydney'\n",
      " \"Cortina d'Ampezzo\" 'Squaw Valley' 'Rio de Janeiro' 'Innsbruck'\n",
      " 'Grenoble' 'Sapporo' 'Beijing' 'London' 'Moskva' 'Melbourne'\n",
      " 'Los Angeles' 'Barcelona' 'Albertville' 'Mexico City' 'Paris' 'Vancouver'\n",
      " 'Stockholm' 'Antwerpen' 'Amsterdam' 'Tokyo' 'Montreal' 'Atlanta' 'Munich'\n",
      " 'Berlin' 'Helsinki' 'Roma' 'Lake Placid' 'Seoul' 'Oslo' 'Sarajevo'\n",
      " 'Torino' 'Calgary' 'Sankt Moritz' 'Garmisch-Partenkirchen' 'St. Louis'\n",
      " 'Chamonix' nan]\n",
      "['Biathlon' 'Football' 'Equestrianism' 'Ice Hockey' 'Athletics'\n",
      " 'Bobsleigh' 'Water Polo' 'Gymnastics' 'Swimming' 'Art Competitions'\n",
      " 'Boxing' 'Sailing' 'Badminton' 'Modern Pentathlon' 'Shooting'\n",
      " 'Alpine Skiing' 'Rowing' 'Cross Country Skiing' 'Weightlifting'\n",
      " 'Basketball' 'Taekwondo' 'Wrestling' 'Cycling' 'Fencing' 'Hockey'\n",
      " 'Table Tennis' 'Tennis' 'Judo' 'Tug-Of-War' 'Beach Volleyball' 'Canoeing'\n",
      " 'Volleyball' 'Diving' 'Synchronized Swimming' 'Rhythmic Gymnastics'\n",
      " 'Handball' 'Baseball' 'Snowboarding' 'Luge' 'Rugby Sevens'\n",
      " 'Speed Skating' 'Figure Skating' 'Archery' 'Freestyle Skiing'\n",
      " 'Trampolining' 'Short Track Speed Skating' 'Golf' 'Lacrosse' 'Softball'\n",
      " 'Ski Jumping' 'Skeleton' 'Nordic Combined' 'Polo' 'Rugby' 'Curling'\n",
      " 'Triathlon' 'Jeu De Paume' 'Racquets' 'Cricket' 'Motorboating' 'Croquet'\n",
      " 'Alpinism' 'Aeronautics' nan 'Military Ski Patrol' 'Roque'\n",
      " 'Basque Pelota' 'Footba']\n",
      "[nan 'Bronze' 'Gold' 'Silver']\n"
     ]
    }
   ],
   "source": [
    "for i in ['Sex', 'Team', 'Games', 'Season', 'City', 'Sport', 'Medal']:\n",
    "    print(df[i].unique())"
   ]
  },
  {
   "cell_type": "markdown",
   "id": "e108180f",
   "metadata": {},
   "source": [
    "_There are some deviations that are already visible_"
   ]
  },
  {
   "cell_type": "markdown",
   "id": "9b7b4096",
   "metadata": {},
   "source": [
    "#### Checking NULLs"
   ]
  },
  {
   "cell_type": "code",
   "execution_count": 8,
   "id": "7e0f004f",
   "metadata": {
    "scrolled": true
   },
   "outputs": [
    {
     "data": {
      "text/plain": [
       "ID             0\n",
       "Name           1\n",
       "Sex            2\n",
       "Age         9476\n",
       "Height     60172\n",
       "Weight     62876\n",
       "Team           3\n",
       "NOC            4\n",
       "Games          5\n",
       "Year           7\n",
       "Season         7\n",
       "City           7\n",
       "Sport          7\n",
       "Event          8\n",
       "Medal     231333\n",
       "dtype: int64"
      ]
     },
     "execution_count": 8,
     "metadata": {},
     "output_type": "execute_result"
    }
   ],
   "source": [
    "df.isna().sum()"
   ]
  },
  {
   "cell_type": "markdown",
   "id": "7d8fe9db",
   "metadata": {},
   "source": [
    "_Obviously some sportsmen did not have medals. Also we consider that some athletes did not measured their Height and Weight and did not wanted to say their age (maybe). And nobody took such statistics especially in the several first games_"
   ]
  },
  {
   "cell_type": "markdown",
   "id": "0ace2475-75f5-4b1c-b3e3-33f43fa8af5a",
   "metadata": {},
   "source": [
    "#### Deleting sportsmen without name and sport, beacuse sportsmen could not be without sport and name"
   ]
  },
  {
   "cell_type": "code",
   "execution_count": 9,
   "id": "dc30b23c-2379-4cd8-b2ad-1a4336ddb553",
   "metadata": {},
   "outputs": [],
   "source": [
    "df = df.drop(df.loc[df.Name.isnull()].index[0], axis=0)\n",
    "df = df.drop(df.loc[df['Sport'].isnull()].index)"
   ]
  },
  {
   "cell_type": "code",
   "execution_count": 10,
   "id": "7d5e0a56",
   "metadata": {
    "scrolled": true
   },
   "outputs": [
    {
     "data": {
      "text/plain": [
       "ID             0\n",
       "Name           0\n",
       "Sex            0\n",
       "Age         9472\n",
       "Height     60160\n",
       "Weight     62863\n",
       "Team           0\n",
       "NOC            0\n",
       "Games          0\n",
       "Year           0\n",
       "Season         0\n",
       "City           0\n",
       "Sport          0\n",
       "Event          1\n",
       "Medal     231291\n",
       "dtype: int64"
      ]
     },
     "execution_count": 10,
     "metadata": {},
     "output_type": "execute_result"
    }
   ],
   "source": [
    "df.isna().sum()"
   ]
  },
  {
   "cell_type": "markdown",
   "id": "821ae952",
   "metadata": {},
   "source": [
    "#### Checking Event and Season and repair missed data "
   ]
  },
  {
   "cell_type": "code",
   "execution_count": 11,
   "id": "6cedb757",
   "metadata": {},
   "outputs": [
    {
     "data": {
      "text/html": [
       "<div>\n",
       "<style scoped>\n",
       "    .dataframe tbody tr th:only-of-type {\n",
       "        vertical-align: middle;\n",
       "    }\n",
       "\n",
       "    .dataframe tbody tr th {\n",
       "        vertical-align: top;\n",
       "    }\n",
       "\n",
       "    .dataframe thead th {\n",
       "        text-align: right;\n",
       "    }\n",
       "</style>\n",
       "<table border=\"1\" class=\"dataframe\">\n",
       "  <thead>\n",
       "    <tr style=\"text-align: right;\">\n",
       "      <th></th>\n",
       "      <th>ID</th>\n",
       "      <th>Name</th>\n",
       "      <th>Sex</th>\n",
       "      <th>Age</th>\n",
       "      <th>Height</th>\n",
       "      <th>Weight</th>\n",
       "      <th>Team</th>\n",
       "      <th>NOC</th>\n",
       "      <th>Games</th>\n",
       "      <th>Year</th>\n",
       "      <th>Season</th>\n",
       "      <th>City</th>\n",
       "      <th>Sport</th>\n",
       "      <th>Event</th>\n",
       "      <th>Medal</th>\n",
       "    </tr>\n",
       "  </thead>\n",
       "  <tbody>\n",
       "    <tr>\n",
       "      <th>22781</th>\n",
       "      <td>91137</td>\n",
       "      <td>Georgios Pantos</td>\n",
       "      <td>M</td>\n",
       "      <td>NaN</td>\n",
       "      <td>NaN</td>\n",
       "      <td>NaN</td>\n",
       "      <td>Athens-2</td>\n",
       "      <td>GRE</td>\n",
       "      <td>1906 Summer</td>\n",
       "      <td>1906.0</td>\n",
       "      <td>Summer</td>\n",
       "      <td>Athina</td>\n",
       "      <td>Footba</td>\n",
       "      <td>NaN</td>\n",
       "      <td>NaN</td>\n",
       "    </tr>\n",
       "  </tbody>\n",
       "</table>\n",
       "</div>"
      ],
      "text/plain": [
       "          ID             Name Sex  Age  Height  Weight      Team  NOC  \\\n",
       "22781  91137  Georgios Pantos   M  NaN     NaN     NaN  Athens-2  GRE   \n",
       "\n",
       "             Games    Year  Season    City   Sport Event Medal  \n",
       "22781  1906 Summer  1906.0  Summer  Athina  Footba   NaN   NaN  "
      ]
     },
     "execution_count": 11,
     "metadata": {},
     "output_type": "execute_result"
    }
   ],
   "source": [
    "df.loc[df['Event'].isnull()]"
   ]
  },
  {
   "cell_type": "code",
   "execution_count": 12,
   "id": "02ffe4a5",
   "metadata": {},
   "outputs": [],
   "source": [
    "df.loc[df['Event'].isnull(), \"Event\"] = 'Football Men\\'s Football'\n",
    "df.loc[df['Event'].isnull(), \"Sport\"] = 'Football'"
   ]
  },
  {
   "cell_type": "code",
   "execution_count": 13,
   "id": "f1e2b7cf",
   "metadata": {},
   "outputs": [],
   "source": [
    "df.loc[df.Games == '2004 Summe', \"Event\"] = '2004 Summer'"
   ]
  },
  {
   "cell_type": "code",
   "execution_count": 14,
   "id": "6dc72f56",
   "metadata": {},
   "outputs": [],
   "source": [
    "df.loc[df.Games == '2000 Su', \"Event\"] = '2000 Summer'"
   ]
  },
  {
   "cell_type": "markdown",
   "id": "f5e03fc3-2a98-4ebb-9e3b-4069ca379b2d",
   "metadata": {
    "tags": []
   },
   "source": [
    "#### Checking Sex"
   ]
  },
  {
   "cell_type": "code",
   "execution_count": 15,
   "id": "960f57b4",
   "metadata": {},
   "outputs": [
    {
     "data": {
      "text/plain": [
       "F     74512\n",
       "G         2\n",
       "M    196555\n",
       "Name: Sex, dtype: int64"
      ]
     },
     "execution_count": 15,
     "metadata": {},
     "output_type": "execute_result"
    }
   ],
   "source": [
    "df['Sex'].value_counts().sort_index()"
   ]
  },
  {
   "cell_type": "code",
   "execution_count": 16,
   "id": "78a27cc6",
   "metadata": {},
   "outputs": [
    {
     "data": {
      "text/html": [
       "<div>\n",
       "<style scoped>\n",
       "    .dataframe tbody tr th:only-of-type {\n",
       "        vertical-align: middle;\n",
       "    }\n",
       "\n",
       "    .dataframe tbody tr th {\n",
       "        vertical-align: top;\n",
       "    }\n",
       "\n",
       "    .dataframe thead th {\n",
       "        text-align: right;\n",
       "    }\n",
       "</style>\n",
       "<table border=\"1\" class=\"dataframe\">\n",
       "  <thead>\n",
       "    <tr style=\"text-align: right;\">\n",
       "      <th></th>\n",
       "      <th>ID</th>\n",
       "      <th>Name</th>\n",
       "      <th>Sex</th>\n",
       "      <th>Age</th>\n",
       "      <th>Height</th>\n",
       "      <th>Weight</th>\n",
       "      <th>Team</th>\n",
       "      <th>NOC</th>\n",
       "      <th>Games</th>\n",
       "      <th>Year</th>\n",
       "      <th>Season</th>\n",
       "      <th>City</th>\n",
       "      <th>Sport</th>\n",
       "      <th>Event</th>\n",
       "      <th>Medal</th>\n",
       "    </tr>\n",
       "  </thead>\n",
       "  <tbody>\n",
       "    <tr>\n",
       "      <th>42</th>\n",
       "      <td>79609</td>\n",
       "      <td>Pavel Mike</td>\n",
       "      <td>G</td>\n",
       "      <td>22.0</td>\n",
       "      <td>182.0</td>\n",
       "      <td>79.0</td>\n",
       "      <td>Czechoslovakia</td>\n",
       "      <td>TCH</td>\n",
       "      <td>1972 Summer</td>\n",
       "      <td>1972.0</td>\n",
       "      <td>Summer</td>\n",
       "      <td>Munich</td>\n",
       "      <td>Handball</td>\n",
       "      <td>Handball Men's Handball</td>\n",
       "      <td>Silver</td>\n",
       "    </tr>\n",
       "    <tr>\n",
       "      <th>74</th>\n",
       "      <td>79630</td>\n",
       "      <td>Anatoly Mikhaylin</td>\n",
       "      <td>G</td>\n",
       "      <td>37.0</td>\n",
       "      <td>NaN</td>\n",
       "      <td>NaN</td>\n",
       "      <td>Russia</td>\n",
       "      <td>RUS</td>\n",
       "      <td>1996 Summer</td>\n",
       "      <td>1996.0</td>\n",
       "      <td>Summer</td>\n",
       "      <td>Atlanta</td>\n",
       "      <td>Sailing</td>\n",
       "      <td>Sailing Mixed Two Person Keelboat</td>\n",
       "      <td>NaN</td>\n",
       "    </tr>\n",
       "  </tbody>\n",
       "</table>\n",
       "</div>"
      ],
      "text/plain": [
       "       ID               Name Sex   Age  Height  Weight            Team  NOC  \\\n",
       "42  79609         Pavel Mike   G  22.0   182.0    79.0  Czechoslovakia  TCH   \n",
       "74  79630  Anatoly Mikhaylin   G  37.0     NaN     NaN          Russia  RUS   \n",
       "\n",
       "          Games    Year  Season     City     Sport  \\\n",
       "42  1972 Summer  1972.0  Summer   Munich  Handball   \n",
       "74  1996 Summer  1996.0  Summer  Atlanta   Sailing   \n",
       "\n",
       "                                Event   Medal  \n",
       "42            Handball Men's Handball  Silver  \n",
       "74  Sailing Mixed Two Person Keelboat     NaN  "
      ]
     },
     "execution_count": 16,
     "metadata": {},
     "output_type": "execute_result"
    }
   ],
   "source": [
    "df.loc[df.Sex == 'G']"
   ]
  },
  {
   "cell_type": "markdown",
   "id": "07c8a725",
   "metadata": {},
   "source": [
    "_2 athletes turned out to be with gender \"G\" - with all my respect for minorities, I can't leave it this way, because in the years in which these athletes performed, gender-non-decided people did not perform (especially from Russia and Czechoslovakia). So i changed the sex according to their sports and names_"
   ]
  },
  {
   "cell_type": "code",
   "execution_count": 17,
   "id": "ff0c0bfe-bf7f-4a8a-a7e7-0534c60c068a",
   "metadata": {},
   "outputs": [],
   "source": [
    "df.loc[df['Sex'] == 'G', 'Sex'] = 'M'"
   ]
  },
  {
   "cell_type": "markdown",
   "id": "91da01f4-2115-4914-bd5b-85430acc3295",
   "metadata": {},
   "source": [
    "#### Checking Age"
   ]
  },
  {
   "cell_type": "code",
   "execution_count": 18,
   "id": "e18b98eb-58c2-4414-a554-a56d14e7f842",
   "metadata": {},
   "outputs": [
    {
     "data": {
      "text/plain": [
       "10.0       1\n",
       "11.0      13\n",
       "12.0      39\n",
       "13.0     187\n",
       "14.0     837\n",
       "        ... \n",
       "84.0       1\n",
       "88.0       3\n",
       "96.0       1\n",
       "97.0       1\n",
       "240.0      1\n",
       "Name: Age, Length: 75, dtype: int64"
      ]
     },
     "execution_count": 18,
     "metadata": {},
     "output_type": "execute_result"
    }
   ],
   "source": [
    "df['Age'].value_counts().sort_index()"
   ]
  },
  {
   "cell_type": "code",
   "execution_count": 19,
   "id": "c362612e-ad1c-4a70-a0fa-dc7b9e491c18",
   "metadata": {
    "scrolled": true,
    "tags": []
   },
   "outputs": [
    {
     "data": {
      "text/html": [
       "<div>\n",
       "<style scoped>\n",
       "    .dataframe tbody tr th:only-of-type {\n",
       "        vertical-align: middle;\n",
       "    }\n",
       "\n",
       "    .dataframe tbody tr th {\n",
       "        vertical-align: top;\n",
       "    }\n",
       "\n",
       "    .dataframe thead th {\n",
       "        text-align: right;\n",
       "    }\n",
       "</style>\n",
       "<table border=\"1\" class=\"dataframe\">\n",
       "  <thead>\n",
       "    <tr style=\"text-align: right;\">\n",
       "      <th></th>\n",
       "      <th>ID</th>\n",
       "      <th>Name</th>\n",
       "      <th>Sex</th>\n",
       "      <th>Age</th>\n",
       "      <th>Height</th>\n",
       "      <th>Weight</th>\n",
       "      <th>Team</th>\n",
       "      <th>NOC</th>\n",
       "      <th>Games</th>\n",
       "      <th>Year</th>\n",
       "      <th>Season</th>\n",
       "      <th>City</th>\n",
       "      <th>Sport</th>\n",
       "      <th>Event</th>\n",
       "      <th>Medal</th>\n",
       "    </tr>\n",
       "  </thead>\n",
       "  <tbody>\n",
       "    <tr>\n",
       "      <th>38</th>\n",
       "      <td>23459</td>\n",
       "      <td>Flicien Jules mile Courbet</td>\n",
       "      <td>M</td>\n",
       "      <td>240.0</td>\n",
       "      <td>NaN</td>\n",
       "      <td>NaN</td>\n",
       "      <td>Belgium</td>\n",
       "      <td>BEL</td>\n",
       "      <td>1912 Summer</td>\n",
       "      <td>1912.0</td>\n",
       "      <td>Summer</td>\n",
       "      <td>Stockholm</td>\n",
       "      <td>Swimming</td>\n",
       "      <td>Swimming Men's 200 metres Breaststroke</td>\n",
       "      <td>NaN</td>\n",
       "    </tr>\n",
       "  </tbody>\n",
       "</table>\n",
       "</div>"
      ],
      "text/plain": [
       "       ID                        Name Sex    Age  Height  Weight     Team  \\\n",
       "38  23459  Flicien Jules mile Courbet   M  240.0     NaN     NaN  Belgium   \n",
       "\n",
       "    NOC        Games    Year  Season       City     Sport  \\\n",
       "38  BEL  1912 Summer  1912.0  Summer  Stockholm  Swimming   \n",
       "\n",
       "                                     Event Medal  \n",
       "38  Swimming Men's 200 metres Breaststroke   NaN  "
      ]
     },
     "execution_count": 19,
     "metadata": {},
     "output_type": "execute_result"
    }
   ],
   "source": [
    "df.loc[df.Age == 240]"
   ]
  },
  {
   "cell_type": "markdown",
   "id": "753d17d7",
   "metadata": {},
   "source": [
    "_Too old... We have to change this data to 24, beacuse she have some another data in dataset - he was 24 in 1912_"
   ]
  },
  {
   "cell_type": "code",
   "execution_count": 20,
   "id": "ef1b727e",
   "metadata": {},
   "outputs": [
    {
     "data": {
      "text/plain": [
       "37     24.0\n",
       "38    240.0\n",
       "39     24.0\n",
       "Name: Age, dtype: float64"
      ]
     },
     "execution_count": 20,
     "metadata": {},
     "output_type": "execute_result"
    }
   ],
   "source": [
    "df.loc[(df.Name == \"Flicien Jules mile Courbet\") & (df.Year == 1912)].Age"
   ]
  },
  {
   "cell_type": "code",
   "execution_count": 21,
   "id": "07295f36",
   "metadata": {},
   "outputs": [],
   "source": [
    "df.loc[df.Age == 240, 'Age'] = 24"
   ]
  },
  {
   "cell_type": "markdown",
   "id": "628e2977-0edf-40fb-a9c6-a6883329cd1b",
   "metadata": {},
   "source": [
    "#### Checking Height"
   ]
  },
  {
   "cell_type": "code",
   "execution_count": 22,
   "id": "92889e40-df20-4748-80db-68dcc6d890d7",
   "metadata": {},
   "outputs": [
    {
     "data": {
      "text/plain": [
       "127.0    7\n",
       "128.0    1\n",
       "130.0    2\n",
       "131.0    2\n",
       "132.0    9\n",
       "        ..\n",
       "220.0    6\n",
       "221.0    4\n",
       "223.0    4\n",
       "226.0    3\n",
       "340.0    1\n",
       "Name: Height, Length: 96, dtype: int64"
      ]
     },
     "execution_count": 22,
     "metadata": {},
     "output_type": "execute_result"
    }
   ],
   "source": [
    "df['Height'].value_counts().sort_index()"
   ]
  },
  {
   "cell_type": "code",
   "execution_count": 23,
   "id": "cb5c59fe-abdd-4531-82b5-106fb2615de1",
   "metadata": {
    "scrolled": true
   },
   "outputs": [
    {
     "data": {
      "text/html": [
       "<div>\n",
       "<style scoped>\n",
       "    .dataframe tbody tr th:only-of-type {\n",
       "        vertical-align: middle;\n",
       "    }\n",
       "\n",
       "    .dataframe tbody tr th {\n",
       "        vertical-align: top;\n",
       "    }\n",
       "\n",
       "    .dataframe thead th {\n",
       "        text-align: right;\n",
       "    }\n",
       "</style>\n",
       "<table border=\"1\" class=\"dataframe\">\n",
       "  <thead>\n",
       "    <tr style=\"text-align: right;\">\n",
       "      <th></th>\n",
       "      <th>ID</th>\n",
       "      <th>Name</th>\n",
       "      <th>Sex</th>\n",
       "      <th>Age</th>\n",
       "      <th>Height</th>\n",
       "      <th>Weight</th>\n",
       "      <th>Team</th>\n",
       "      <th>NOC</th>\n",
       "      <th>Games</th>\n",
       "      <th>Year</th>\n",
       "      <th>Season</th>\n",
       "      <th>City</th>\n",
       "      <th>Sport</th>\n",
       "      <th>Event</th>\n",
       "      <th>Medal</th>\n",
       "    </tr>\n",
       "  </thead>\n",
       "  <tbody>\n",
       "    <tr>\n",
       "      <th>227</th>\n",
       "      <td>23549</td>\n",
       "      <td>Kirsty Leigh Coventry (-Seward)</td>\n",
       "      <td>F</td>\n",
       "      <td>28.0</td>\n",
       "      <td>340.0</td>\n",
       "      <td>64.0</td>\n",
       "      <td>Zimbabwe</td>\n",
       "      <td>ZIM</td>\n",
       "      <td>2012 Summer</td>\n",
       "      <td>2012.0</td>\n",
       "      <td>Summer</td>\n",
       "      <td>London</td>\n",
       "      <td>Swimming</td>\n",
       "      <td>Swimming Women's 200 metres Individual Medley</td>\n",
       "      <td>NaN</td>\n",
       "    </tr>\n",
       "  </tbody>\n",
       "</table>\n",
       "</div>"
      ],
      "text/plain": [
       "        ID                             Name Sex   Age  Height  Weight  \\\n",
       "227  23549  Kirsty Leigh Coventry (-Seward)   F  28.0   340.0    64.0   \n",
       "\n",
       "         Team  NOC        Games    Year  Season    City     Sport  \\\n",
       "227  Zimbabwe  ZIM  2012 Summer  2012.0  Summer  London  Swimming   \n",
       "\n",
       "                                             Event Medal  \n",
       "227  Swimming Women's 200 metres Individual Medley   NaN  "
      ]
     },
     "execution_count": 23,
     "metadata": {},
     "output_type": "execute_result"
    }
   ],
   "source": [
    "df.loc[df.Height == 340]"
   ]
  },
  {
   "cell_type": "markdown",
   "id": "860abbda",
   "metadata": {},
   "source": [
    "_It is to high! But let's take a look to another data about his height_"
   ]
  },
  {
   "cell_type": "code",
   "execution_count": 24,
   "id": "080633b6",
   "metadata": {},
   "outputs": [
    {
     "data": {
      "text/plain": [
       "176.0    15\n",
       "340.0     1\n",
       "Name: Height, dtype: int64"
      ]
     },
     "execution_count": 24,
     "metadata": {},
     "output_type": "execute_result"
    }
   ],
   "source": [
    "df.loc[df.Name == 'Kirsty Leigh Coventry (-Seward)'].Height.value_counts()"
   ]
  },
  {
   "cell_type": "markdown",
   "id": "c8fdd731",
   "metadata": {},
   "source": [
    "She is definetely 176!"
   ]
  },
  {
   "cell_type": "code",
   "execution_count": 25,
   "id": "7d70cd13-a0d3-4e1e-85cf-b7e4c118fad4",
   "metadata": {},
   "outputs": [],
   "source": [
    "df.loc[df.Height == 340, 'Height'] = 176"
   ]
  },
  {
   "cell_type": "markdown",
   "id": "5cb56e76-485f-4051-a035-9fe73a9de3a7",
   "metadata": {},
   "source": [
    "#### Checking Weight"
   ]
  },
  {
   "cell_type": "code",
   "execution_count": 26,
   "id": "29613a38-ad63-4f9a-9b1f-5623c88de2e6",
   "metadata": {},
   "outputs": [
    {
     "data": {
      "text/plain": [
       "25.0      6\n",
       "28.0     14\n",
       "30.0     42\n",
       "31.0     23\n",
       "32.0     41\n",
       "         ..\n",
       "180.0     1\n",
       "182.0     2\n",
       "190.0     1\n",
       "198.0     1\n",
       "214.0     2\n",
       "Name: Weight, Length: 220, dtype: int64"
      ]
     },
     "execution_count": 26,
     "metadata": {},
     "output_type": "execute_result"
    }
   ],
   "source": [
    "df['Weight'].value_counts().sort_index()"
   ]
  },
  {
   "cell_type": "markdown",
   "id": "e97271be",
   "metadata": {},
   "source": [
    "_It is already okay_"
   ]
  },
  {
   "cell_type": "markdown",
   "id": "7aa549f8",
   "metadata": {},
   "source": [
    "## EDA"
   ]
  },
  {
   "cell_type": "markdown",
   "id": "05636580-a987-4dec-8bd8-4a0481cfbf3e",
   "metadata": {},
   "source": [
    "### The age of the youngest athletes of both sexes at the 1992 Olympics."
   ]
  },
  {
   "cell_type": "code",
   "execution_count": 27,
   "id": "a657f11b-7df1-40d8-bfe4-6925baad2417",
   "metadata": {},
   "outputs": [
    {
     "data": {
      "text/html": [
       "<div>\n",
       "<style scoped>\n",
       "    .dataframe tbody tr th:only-of-type {\n",
       "        vertical-align: middle;\n",
       "    }\n",
       "\n",
       "    .dataframe tbody tr th {\n",
       "        vertical-align: top;\n",
       "    }\n",
       "\n",
       "    .dataframe thead th {\n",
       "        text-align: right;\n",
       "    }\n",
       "</style>\n",
       "<table border=\"1\" class=\"dataframe\">\n",
       "  <thead>\n",
       "    <tr style=\"text-align: right;\">\n",
       "      <th></th>\n",
       "      <th>Age</th>\n",
       "    </tr>\n",
       "    <tr>\n",
       "      <th>Sex</th>\n",
       "      <th></th>\n",
       "    </tr>\n",
       "  </thead>\n",
       "  <tbody>\n",
       "    <tr>\n",
       "      <th>F</th>\n",
       "      <td>12.0</td>\n",
       "    </tr>\n",
       "    <tr>\n",
       "      <th>M</th>\n",
       "      <td>11.0</td>\n",
       "    </tr>\n",
       "  </tbody>\n",
       "</table>\n",
       "</div>"
      ],
      "text/plain": [
       "      Age\n",
       "Sex      \n",
       "F    12.0\n",
       "M    11.0"
      ]
     },
     "execution_count": 27,
     "metadata": {},
     "output_type": "execute_result"
    }
   ],
   "source": [
    "df.loc[df.Year == 1992].groupby('Sex').Age.min().to_frame()"
   ]
  },
  {
   "cell_type": "markdown",
   "id": "22f8cc62-bb81-4bd4-9a8a-b9c0a7d9a93d",
   "metadata": {},
   "source": [
    "### The average value and standard deviation of the Height variable for athletes of each sex."
   ]
  },
  {
   "cell_type": "code",
   "execution_count": 28,
   "id": "aace47e2-7075-43aa-b327-b963b401e160",
   "metadata": {},
   "outputs": [
    {
     "data": {
      "text/html": [
       "<div>\n",
       "<style scoped>\n",
       "    .dataframe tbody tr th:only-of-type {\n",
       "        vertical-align: middle;\n",
       "    }\n",
       "\n",
       "    .dataframe tbody tr th {\n",
       "        vertical-align: top;\n",
       "    }\n",
       "\n",
       "    .dataframe thead th {\n",
       "        text-align: right;\n",
       "    }\n",
       "</style>\n",
       "<table border=\"1\" class=\"dataframe\">\n",
       "  <thead>\n",
       "    <tr style=\"text-align: right;\">\n",
       "      <th></th>\n",
       "      <th>Mean_value</th>\n",
       "      <th>Standard_deviation</th>\n",
       "    </tr>\n",
       "    <tr>\n",
       "      <th>Sex</th>\n",
       "      <th></th>\n",
       "      <th></th>\n",
       "    </tr>\n",
       "  </thead>\n",
       "  <tbody>\n",
       "    <tr>\n",
       "      <th>F</th>\n",
       "      <td>167.839701</td>\n",
       "      <td>8.778879</td>\n",
       "    </tr>\n",
       "    <tr>\n",
       "      <th>M</th>\n",
       "      <td>178.858514</td>\n",
       "      <td>9.360484</td>\n",
       "    </tr>\n",
       "  </tbody>\n",
       "</table>\n",
       "</div>"
      ],
      "text/plain": [
       "     Mean_value  Standard_deviation\n",
       "Sex                                \n",
       "F    167.839701            8.778879\n",
       "M    178.858514            9.360484"
      ]
     },
     "execution_count": 28,
     "metadata": {},
     "output_type": "execute_result"
    }
   ],
   "source": [
    "df.groupby('Sex').agg(Mean_value = ('Height', 'mean'),\n",
    "                      Standard_deviation = ('Height', 'std'))"
   ]
  },
  {
   "cell_type": "markdown",
   "id": "8f0fe656-baa8-4b2e-818c-34bca3fd6975",
   "metadata": {},
   "source": [
    "### The average value and standard deviation of the Height variable for female tennis players at the 2000 Olympics."
   ]
  },
  {
   "cell_type": "code",
   "execution_count": 29,
   "id": "3194d0dc-05c5-4c93-8200-567b9c4c83e5",
   "metadata": {},
   "outputs": [
    {
     "data": {
      "text/html": [
       "<div>\n",
       "<style scoped>\n",
       "    .dataframe tbody tr th:only-of-type {\n",
       "        vertical-align: middle;\n",
       "    }\n",
       "\n",
       "    .dataframe tbody tr th {\n",
       "        vertical-align: top;\n",
       "    }\n",
       "\n",
       "    .dataframe thead th {\n",
       "        text-align: right;\n",
       "    }\n",
       "</style>\n",
       "<table border=\"1\" class=\"dataframe\">\n",
       "  <thead>\n",
       "    <tr style=\"text-align: right;\">\n",
       "      <th></th>\n",
       "      <th>Height</th>\n",
       "    </tr>\n",
       "  </thead>\n",
       "  <tbody>\n",
       "    <tr>\n",
       "      <th>Mean_value</th>\n",
       "      <td>171.8</td>\n",
       "    </tr>\n",
       "    <tr>\n",
       "      <th>Standard_deviation</th>\n",
       "      <td>6.5</td>\n",
       "    </tr>\n",
       "  </tbody>\n",
       "</table>\n",
       "</div>"
      ],
      "text/plain": [
       "                    Height\n",
       "Mean_value           171.8\n",
       "Standard_deviation     6.5"
      ]
     },
     "execution_count": 29,
     "metadata": {},
     "output_type": "execute_result"
    }
   ],
   "source": [
    "df.loc[(df.Sex == 'F') & \n",
    "       (df.Sport == 'Tennis') & \n",
    "       (df.Year == 2000)].agg(Mean_value = ('Height', 'mean'), \n",
    "                              Standard_deviation = ('Height', 'std')).round(1)"
   ]
  },
  {
   "cell_type": "markdown",
   "id": "1799022a-7c1a-44ba-9de4-c8096d78185e",
   "metadata": {},
   "source": [
    "### Heaviest athlete's sport in at the 2006 Olympics"
   ]
  },
  {
   "cell_type": "code",
   "execution_count": 30,
   "id": "f1239488-866c-4a13-92e5-cd879344fa19",
   "metadata": {},
   "outputs": [
    {
     "name": "stdout",
     "output_type": "stream",
     "text": [
      "Sport of heviest athlete: Skeleton\n"
     ]
    }
   ],
   "source": [
    "print(f\"Sport of heviest athlete: {(df.loc[(df.Weight == df.loc[df.Year == 2006].Weight.max()) & (df.Year == 2006)].Sport).reset_index().Sport[0]}\")"
   ]
  },
  {
   "cell_type": "markdown",
   "id": "34cf8e78-d4ce-43df-8a8c-8b1ecf5fac2a",
   "metadata": {},
   "source": [
    "### Number of gold medals which were received by women from 1980 to 2010"
   ]
  },
  {
   "cell_type": "code",
   "execution_count": 31,
   "id": "797d7ad7-f902-473f-beb2-5583cd6198ae",
   "metadata": {},
   "outputs": [
    {
     "data": {
      "text/plain": [
       "2249"
      ]
     },
     "execution_count": 31,
     "metadata": {},
     "output_type": "execute_result"
    }
   ],
   "source": [
    "df.loc[(df.Sex == \"F\") & (df.Medal == \"Gold\") & (df.Year.isin(range(1980,2011)))].Medal.count()"
   ]
  },
  {
   "cell_type": "markdown",
   "id": "dca13377-4009-4fa7-91e8-6e74902d10ce",
   "metadata": {},
   "source": [
    "### Number of times has John Aalberg participated in the Olympic Games in different years"
   ]
  },
  {
   "cell_type": "code",
   "execution_count": 32,
   "id": "a07b3018-01e5-4f8e-a0e3-2e6b30d2d8a0",
   "metadata": {},
   "outputs": [
    {
     "name": "stdout",
     "output_type": "stream",
     "text": [
      "Different years he participated: 2. Participated at different competitions: 8 times.\n"
     ]
    }
   ],
   "source": [
    "diff_years = df.loc[df.Name == \"John Aalberg\"].Year.unique().size\n",
    "all_times = df.loc[df.Name == \"John Aalberg\"].shape[0]\n",
    "num_of_games = df.loc[df.Name == \"John Aalberg\"].Games.unique().size\n",
    "print(f'Different years he participated: {diff_years}. Participated at different competitions: {all_times} times.')"
   ]
  },
  {
   "cell_type": "markdown",
   "id": "2d6056a9-4f58-4f04-8b6d-031851e37144",
   "metadata": {},
   "source": [
    "### The least and most represented (by number of participants) age groups of athletes at the 2008 Olympics. \n",
    "##### Age groups: [15-25), [25-35), [35-45), [45-55]."
   ]
  },
  {
   "cell_type": "code",
   "execution_count": 33,
   "id": "f0c994e3-39f5-4d09-84ed-5c3a84074cb5",
   "metadata": {},
   "outputs": [
    {
     "data": {
      "text/html": [
       "<div>\n",
       "<style scoped>\n",
       "    .dataframe tbody tr th:only-of-type {\n",
       "        vertical-align: middle;\n",
       "    }\n",
       "\n",
       "    .dataframe tbody tr th {\n",
       "        vertical-align: top;\n",
       "    }\n",
       "\n",
       "    .dataframe thead th {\n",
       "        text-align: right;\n",
       "    }\n",
       "</style>\n",
       "<table border=\"1\" class=\"dataframe\">\n",
       "  <thead>\n",
       "    <tr style=\"text-align: right;\">\n",
       "      <th></th>\n",
       "      <th>Age</th>\n",
       "    </tr>\n",
       "    <tr>\n",
       "      <th>Most or least</th>\n",
       "      <th></th>\n",
       "    </tr>\n",
       "  </thead>\n",
       "  <tbody>\n",
       "    <tr>\n",
       "      <th>Most represented</th>\n",
       "      <td>[25, 35)</td>\n",
       "    </tr>\n",
       "    <tr>\n",
       "      <th>Least represented</th>\n",
       "      <td>[45, 55)</td>\n",
       "    </tr>\n",
       "  </tbody>\n",
       "</table>\n",
       "</div>"
      ],
      "text/plain": [
       "                        Age\n",
       "Most or least              \n",
       "Most represented   [25, 35)\n",
       "Least represented  [45, 55)"
      ]
     },
     "execution_count": 33,
     "metadata": {},
     "output_type": "execute_result"
    }
   ],
   "source": [
    "categories = pd.cut(df.loc[df.Year == 2008].Age,bins=(15,25,35,45,55), right= False)\n",
    "\n",
    "ages_df = categories.value_counts().agg(['idxmax', 'idxmin']).reset_index().\\\n",
    "replace('idxmax', 'Most represented').replace('idxmin', 'Least represented').set_index('index')\n",
    "ages_df.index.names = ['Most or least']\n",
    "ages_df"
   ]
  },
  {
   "cell_type": "markdown",
   "id": "135e295c-9ee2-448f-b719-3c05eb024b43",
   "metadata": {},
   "source": [
    "### How much has the number of sports at the 2002 Olympics more compared to the 1994 Olympic Games"
   ]
  },
  {
   "cell_type": "code",
   "execution_count": 34,
   "id": "5c985f1e-6389-457b-b299-dcb5cff94bc4",
   "metadata": {},
   "outputs": [
    {
     "name": "stdout",
     "output_type": "stream",
     "text": [
      " In 2002 Olympics there were 3 more sports then in 1994 Olympics\n"
     ]
    }
   ],
   "source": [
    "print(f\" In 2002 Olympics there were {df.loc[df.Year == 2002].Sport.unique().size - df.loc[df.Year == 1994].Sport.unique().size} more sports then in 1994 Olympics\")"
   ]
  },
  {
   "cell_type": "markdown",
   "id": "878301d6-a6c3-4fec-bafa-75360b5fadef",
   "metadata": {},
   "source": [
    "### The top 3 countries for each type of medals for the Winter and Summer Olympics"
   ]
  },
  {
   "cell_type": "code",
   "execution_count": 35,
   "id": "4e706c95-1a7d-41dc-975f-fc9b6cb05963",
   "metadata": {},
   "outputs": [
    {
     "data": {
      "text/html": [
       "<div>\n",
       "<style scoped>\n",
       "    .dataframe tbody tr th:only-of-type {\n",
       "        vertical-align: middle;\n",
       "    }\n",
       "\n",
       "    .dataframe tbody tr th {\n",
       "        vertical-align: top;\n",
       "    }\n",
       "\n",
       "    .dataframe thead th {\n",
       "        text-align: right;\n",
       "    }\n",
       "</style>\n",
       "<table border=\"1\" class=\"dataframe\">\n",
       "  <thead>\n",
       "    <tr style=\"text-align: right;\">\n",
       "      <th></th>\n",
       "      <th></th>\n",
       "      <th></th>\n",
       "      <th>Count</th>\n",
       "    </tr>\n",
       "    <tr>\n",
       "      <th>Season</th>\n",
       "      <th>Medal</th>\n",
       "      <th>NOC</th>\n",
       "      <th></th>\n",
       "    </tr>\n",
       "  </thead>\n",
       "  <tbody>\n",
       "    <tr>\n",
       "      <th rowspan=\"9\" valign=\"top\">Summer</th>\n",
       "      <th rowspan=\"3\" valign=\"top\">Gold</th>\n",
       "      <th>USA</th>\n",
       "      <td>2472</td>\n",
       "    </tr>\n",
       "    <tr>\n",
       "      <th>URS</th>\n",
       "      <td>832</td>\n",
       "    </tr>\n",
       "    <tr>\n",
       "      <th>GBR</th>\n",
       "      <td>636</td>\n",
       "    </tr>\n",
       "    <tr>\n",
       "      <th rowspan=\"3\" valign=\"top\">Silver</th>\n",
       "      <th>USA</th>\n",
       "      <td>1333</td>\n",
       "    </tr>\n",
       "    <tr>\n",
       "      <th>GBR</th>\n",
       "      <td>729</td>\n",
       "    </tr>\n",
       "    <tr>\n",
       "      <th>URS</th>\n",
       "      <td>635</td>\n",
       "    </tr>\n",
       "    <tr>\n",
       "      <th rowspan=\"3\" valign=\"top\">Bronze</th>\n",
       "      <th>USA</th>\n",
       "      <td>1197</td>\n",
       "    </tr>\n",
       "    <tr>\n",
       "      <th>GER</th>\n",
       "      <td>649</td>\n",
       "    </tr>\n",
       "    <tr>\n",
       "      <th>GBR</th>\n",
       "      <td>620</td>\n",
       "    </tr>\n",
       "    <tr>\n",
       "      <th rowspan=\"9\" valign=\"top\">Winter</th>\n",
       "      <th rowspan=\"3\" valign=\"top\">Gold</th>\n",
       "      <th>CAN</th>\n",
       "      <td>305</td>\n",
       "    </tr>\n",
       "    <tr>\n",
       "      <th>URS</th>\n",
       "      <td>250</td>\n",
       "    </tr>\n",
       "    <tr>\n",
       "      <th>USA</th>\n",
       "      <td>166</td>\n",
       "    </tr>\n",
       "    <tr>\n",
       "      <th rowspan=\"3\" valign=\"top\">Silver</th>\n",
       "      <th>USA</th>\n",
       "      <td>308</td>\n",
       "    </tr>\n",
       "    <tr>\n",
       "      <th>CAN</th>\n",
       "      <td>199</td>\n",
       "    </tr>\n",
       "    <tr>\n",
       "      <th>NOR</th>\n",
       "      <td>165</td>\n",
       "    </tr>\n",
       "    <tr>\n",
       "      <th rowspan=\"3\" valign=\"top\">Bronze</th>\n",
       "      <th>FIN</th>\n",
       "      <td>215</td>\n",
       "    </tr>\n",
       "    <tr>\n",
       "      <th>SWE</th>\n",
       "      <td>177</td>\n",
       "    </tr>\n",
       "    <tr>\n",
       "      <th>USA</th>\n",
       "      <td>161</td>\n",
       "    </tr>\n",
       "  </tbody>\n",
       "</table>\n",
       "</div>"
      ],
      "text/plain": [
       "                   Count\n",
       "Season Medal  NOC       \n",
       "Summer Gold   USA   2472\n",
       "              URS    832\n",
       "              GBR    636\n",
       "       Silver USA   1333\n",
       "              GBR    729\n",
       "              URS    635\n",
       "       Bronze USA   1197\n",
       "              GER    649\n",
       "              GBR    620\n",
       "Winter Gold   CAN    305\n",
       "              URS    250\n",
       "              USA    166\n",
       "       Silver USA    308\n",
       "              CAN    199\n",
       "              NOR    165\n",
       "       Bronze FIN    215\n",
       "              SWE    177\n",
       "              USA    161"
      ]
     },
     "execution_count": 35,
     "metadata": {},
     "output_type": "execute_result"
    }
   ],
   "source": [
    "medal_top_df = df.groupby(['Season', \"Medal\", \"NOC\"]).NOC.count().sort_values(ascending=False).\\\n",
    "groupby(level=[\"Medal\", \"Season\"]).head(3).reindex(['Gold', 'Silver', \"Bronze\"], level=1).to_frame().\\\n",
    "rename(columns = {'NOC': 'Count'})\n",
    "medal_top_df"
   ]
  },
  {
   "cell_type": "markdown",
   "id": "f1ec2b93-f7da-4e12-91f3-d5f5e855ed97",
   "metadata": {},
   "source": [
    "###  Height_z_scores variable with the values of the Height variable after its standardization"
   ]
  },
  {
   "cell_type": "code",
   "execution_count": 36,
   "id": "073c1d3f-e3cf-407d-9c2f-4e0a46dd72e9",
   "metadata": {},
   "outputs": [
    {
     "data": {
      "text/plain": [
       "0        1.108607\n",
       "1        1.108607\n",
       "2        1.108607\n",
       "3        1.108607\n",
       "4        1.393813\n",
       "           ...   \n",
       "22386    0.348055\n",
       "22387    0.062849\n",
       "22388    0.062849\n",
       "22389    0.918469\n",
       "22390    0.918469\n",
       "Name: Height_z_scores, Length: 271069, dtype: float64"
      ]
     },
     "execution_count": 36,
     "metadata": {},
     "output_type": "execute_result"
    }
   ],
   "source": [
    "df['Height_z_scores'] = (df.Height - df.Height.mean()) / df.Height.std()\n",
    "df.Height_z_scores"
   ]
  },
  {
   "cell_type": "markdown",
   "id": "528ffad7-f443-4f6c-945b-8270a0cc4c4a",
   "metadata": {},
   "source": [
    "### Height_min_max_scaled variable with the values of the Height variable after applying min-max normalization to it.\n",
    "##### Optional"
   ]
  },
  {
   "cell_type": "code",
   "execution_count": 37,
   "id": "9e2ab64b",
   "metadata": {},
   "outputs": [
    {
     "data": {
      "text/plain": [
       "0        0.606061\n",
       "1        0.606061\n",
       "2        0.606061\n",
       "3        0.606061\n",
       "4        0.636364\n",
       "           ...   \n",
       "22386    0.525253\n",
       "22387    0.494949\n",
       "22388    0.494949\n",
       "22389    0.585859\n",
       "22390    0.585859\n",
       "Name: Height_min_max_scaled, Length: 271069, dtype: float64"
      ]
     },
     "execution_count": 37,
     "metadata": {},
     "output_type": "execute_result"
    }
   ],
   "source": [
    "df['Height_min_max_scaled'] = (df.Height - df.Height.min()) / (df.Height.max() - df.Height.min())\n",
    "df['Height_min_max_scaled']"
   ]
  },
  {
   "cell_type": "markdown",
   "id": "f28e9106",
   "metadata": {},
   "source": [
    "### Compared the height, weight and age of men and women who participated in the Winter Olympic Games. \n",
    "##### The results designed to use them for the article."
   ]
  },
  {
   "cell_type": "markdown",
   "id": "1bbe9da9",
   "metadata": {},
   "source": [
    "_As we have huge data (big amount of values), t-test could be applied_"
   ]
  },
  {
   "cell_type": "code",
   "execution_count": 38,
   "id": "51ea9229",
   "metadata": {},
   "outputs": [],
   "source": [
    "t_height = stats.ttest_ind(df.loc[df.Sex == 'F', 'Height'].dropna(),\n",
    "df.loc[df.Sex == 'M', 'Height'].dropna())\n",
    "t_weight = stats.ttest_ind(df.loc[df.Sex == 'F', 'Weight'].dropna(),\n",
    "df.loc[df.Sex == 'M', 'Weight'].dropna())\n",
    "t_age = stats.ttest_ind(df.loc[df.Sex == 'F', 'Age'].dropna(),\n",
    "df.loc[df.Sex == 'M', 'Age'].dropna())"
   ]
  },
  {
   "cell_type": "code",
   "execution_count": 39,
   "id": "e6c7244c",
   "metadata": {},
   "outputs": [],
   "source": [
    "new_df = df.loc[df.Season == 'Winter',['Sex','Height','Weight', 'Age']].groupby('Sex', as_index=False).agg(['min','mean', 'max', 'std', \"count\"]).round(2).transpose()\n",
    "new_df = new_df.rename(columns = {'F':'Female', 'M':'Male'}, \n",
    "                       index = {'min':'Minimum value', \n",
    "                                'max':'Maximum value',\n",
    "                                'std':'Standard deviation',\n",
    "                                'mean':'Average value',\n",
    "                                'count': \"Total values\"})\n",
    "new_df.rename_axis()\n",
    "new_df.rename_axis([\"Characteristic\", 'Statistics'], axis='index', inplace=True)\n",
    "new_df.rename_axis(\"Sex of athlete:\", axis=\"columns\", inplace=True)\n",
    "\n",
    "new_df['T-test'] = ''\n",
    "new_df.loc[('Height', 'Average value'), 'T-test'] = f' Statistic = {t_height[0].round(2)}'\n",
    "new_df.loc[('Weight', 'Average value'), 'T-test'] = f'Statistic = {t_weight[0].round(2)}'\n",
    "new_df.loc[('Age', 'Average value'), 'T-test'] = f'Statistic = {t_age[0].round(2)}'\n",
    "\n",
    "new_df.loc[('Height', 'Maximum value'), 'T-test'] = f'p-value = {t_height[1].round(2)}'\n",
    "new_df.loc[('Weight', 'Maximum value'), 'T-test'] = f'p-value = {t_weight[1].round(2)}'\n",
    "new_df.loc[('Age', 'Maximum value'), 'T-test'] = f'p-valuec = {t_age[1].round(2)}'"
   ]
  },
  {
   "cell_type": "code",
   "execution_count": 40,
   "id": "28858727",
   "metadata": {},
   "outputs": [
    {
     "data": {
      "text/html": [
       "<style type=\"text/css\">\n",
       "#T_95673 th {\n",
       "  text-align: center;\n",
       "}\n",
       "#T_95673 th {\n",
       "  text-align: center;\n",
       "}\n",
       "#T_95673  {\n",
       "  border: 1px solid #000066;\n",
       "}\n",
       "#T_95673 caption {\n",
       "  caption-side: bottom;\n",
       "  font-size: 1.25em;\n",
       "}\n",
       "#T_95673 .row4 {\n",
       "  border-bottom: 2px solid black;\n",
       "}\n",
       "#T_95673 .level0.row0 {\n",
       "  border: 2px solid black;\n",
       "}\n",
       "#T_95673 .row9 {\n",
       "  border-bottom: 2px solid black;\n",
       "}\n",
       "#T_95673 .level0.row5 {\n",
       "  border: 2px solid black;\n",
       "}\n",
       "#T_95673 .row14 {\n",
       "  border-bottom: 2px solid black;\n",
       "}\n",
       "#T_95673 .level0.row10 {\n",
       "  border: 2px solid black;\n",
       "}\n",
       "</style>\n",
       "<table id=\"T_95673\">\n",
       "  <caption>Table 1. Height, Weight and Age of Male and Female athletes on winter olympics.</caption>\n",
       "  <thead>\n",
       "    <tr>\n",
       "      <th class=\"blank\" >&nbsp;</th>\n",
       "      <th class=\"index_name level0\" >Sex of athlete:</th>\n",
       "      <th id=\"T_95673_level0_col0\" class=\"col_heading level0 col0\" >Female</th>\n",
       "      <th id=\"T_95673_level0_col1\" class=\"col_heading level0 col1\" >Male</th>\n",
       "      <th id=\"T_95673_level0_col2\" class=\"col_heading level0 col2\" >T-test</th>\n",
       "    </tr>\n",
       "    <tr>\n",
       "      <th class=\"index_name level0\" >Characteristic</th>\n",
       "      <th class=\"index_name level1\" >Statistics</th>\n",
       "      <th class=\"blank col0\" >&nbsp;</th>\n",
       "      <th class=\"blank col1\" >&nbsp;</th>\n",
       "      <th class=\"blank col2\" >&nbsp;</th>\n",
       "    </tr>\n",
       "  </thead>\n",
       "  <tbody>\n",
       "    <tr>\n",
       "      <th id=\"T_95673_level0_row0\" class=\"row_heading level0 row0\" rowspan=\"5\">Height</th>\n",
       "      <th id=\"T_95673_level1_row0\" class=\"row_heading level1 row0\" >Minimum value</th>\n",
       "      <td id=\"T_95673_row0_col0\" class=\"data row0 col0\" >137.0</td>\n",
       "      <td id=\"T_95673_row0_col1\" class=\"data row0 col1\" >142.0</td>\n",
       "      <td id=\"T_95673_row0_col2\" class=\"data row0 col2\" ></td>\n",
       "    </tr>\n",
       "    <tr>\n",
       "      <th id=\"T_95673_level1_row1\" class=\"row_heading level1 row1\" >Average value</th>\n",
       "      <td id=\"T_95673_row1_col0\" class=\"data row1 col0\" >166.5</td>\n",
       "      <td id=\"T_95673_row1_col1\" class=\"data row1 col1\" >178.7</td>\n",
       "      <td id=\"T_95673_row1_col2\" class=\"data row1 col2\" > Statistic = -257.05</td>\n",
       "    </tr>\n",
       "    <tr>\n",
       "      <th id=\"T_95673_level1_row2\" class=\"row_heading level1 row2\" >Maximum value</th>\n",
       "      <td id=\"T_95673_row2_col0\" class=\"data row2 col0\" >194.0</td>\n",
       "      <td id=\"T_95673_row2_col1\" class=\"data row2 col1\" >211.0</td>\n",
       "      <td id=\"T_95673_row2_col2\" class=\"data row2 col2\" >p-value = 0.0</td>\n",
       "    </tr>\n",
       "    <tr>\n",
       "      <th id=\"T_95673_level1_row3\" class=\"row_heading level1 row3\" >Standard deviation</th>\n",
       "      <td id=\"T_95673_row3_col0\" class=\"data row3 col0\" >6.0</td>\n",
       "      <td id=\"T_95673_row3_col1\" class=\"data row3 col1\" >6.6</td>\n",
       "      <td id=\"T_95673_row3_col2\" class=\"data row3 col2\" ></td>\n",
       "    </tr>\n",
       "    <tr>\n",
       "      <th id=\"T_95673_level1_row4\" class=\"row_heading level1 row4\" >Total values</th>\n",
       "      <td id=\"T_95673_row4_col0\" class=\"data row4 col0\" >13521.0</td>\n",
       "      <td id=\"T_95673_row4_col1\" class=\"data row4 col1\" >26722.0</td>\n",
       "      <td id=\"T_95673_row4_col2\" class=\"data row4 col2\" ></td>\n",
       "    </tr>\n",
       "    <tr>\n",
       "      <th id=\"T_95673_level0_row5\" class=\"row_heading level0 row5\" rowspan=\"5\">Weight</th>\n",
       "      <th id=\"T_95673_level1_row5\" class=\"row_heading level1 row5\" >Minimum value</th>\n",
       "      <td id=\"T_95673_row5_col0\" class=\"data row5 col0\" >32.0</td>\n",
       "      <td id=\"T_95673_row5_col1\" class=\"data row5 col1\" >47.0</td>\n",
       "      <td id=\"T_95673_row5_col2\" class=\"data row5 col2\" ></td>\n",
       "    </tr>\n",
       "    <tr>\n",
       "      <th id=\"T_95673_level1_row6\" class=\"row_heading level1 row6\" >Average value</th>\n",
       "      <td id=\"T_95673_row6_col0\" class=\"data row6 col0\" >59.8</td>\n",
       "      <td id=\"T_95673_row6_col1\" class=\"data row6 col1\" >76.4</td>\n",
       "      <td id=\"T_95673_row6_col2\" class=\"data row6 col2\" >Statistic = -271.56</td>\n",
       "    </tr>\n",
       "    <tr>\n",
       "      <th id=\"T_95673_level1_row7\" class=\"row_heading level1 row7\" >Maximum value</th>\n",
       "      <td id=\"T_95673_row7_col0\" class=\"data row7 col0\" >96.0</td>\n",
       "      <td id=\"T_95673_row7_col1\" class=\"data row7 col1\" >145.0</td>\n",
       "      <td id=\"T_95673_row7_col2\" class=\"data row7 col2\" >p-value = 0.0</td>\n",
       "    </tr>\n",
       "    <tr>\n",
       "      <th id=\"T_95673_level1_row8\" class=\"row_heading level1 row8\" >Standard deviation</th>\n",
       "      <td id=\"T_95673_row8_col0\" class=\"data row8 col0\" >7.1</td>\n",
       "      <td id=\"T_95673_row8_col1\" class=\"data row8 col1\" >10.3</td>\n",
       "      <td id=\"T_95673_row8_col2\" class=\"data row8 col2\" ></td>\n",
       "    </tr>\n",
       "    <tr>\n",
       "      <th id=\"T_95673_level1_row9\" class=\"row_heading level1 row9\" >Total values</th>\n",
       "      <td id=\"T_95673_row9_col0\" class=\"data row9 col0\" >13332.0</td>\n",
       "      <td id=\"T_95673_row9_col1\" class=\"data row9 col1\" >26204.0</td>\n",
       "      <td id=\"T_95673_row9_col2\" class=\"data row9 col2\" ></td>\n",
       "    </tr>\n",
       "    <tr>\n",
       "      <th id=\"T_95673_level0_row10\" class=\"row_heading level0 row10\" rowspan=\"5\">Age</th>\n",
       "      <th id=\"T_95673_level1_row10\" class=\"row_heading level1 row10\" >Minimum value</th>\n",
       "      <td id=\"T_95673_row10_col0\" class=\"data row10 col0\" >11.0</td>\n",
       "      <td id=\"T_95673_row10_col1\" class=\"data row10 col1\" >12.0</td>\n",
       "      <td id=\"T_95673_row10_col2\" class=\"data row10 col2\" ></td>\n",
       "    </tr>\n",
       "    <tr>\n",
       "      <th id=\"T_95673_level1_row11\" class=\"row_heading level1 row11\" >Average value</th>\n",
       "      <td id=\"T_95673_row11_col0\" class=\"data row11 col0\" >24.0</td>\n",
       "      <td id=\"T_95673_row11_col1\" class=\"data row11 col1\" >25.5</td>\n",
       "      <td id=\"T_95673_row11_col2\" class=\"data row11 col2\" >Statistic = -93.25</td>\n",
       "    </tr>\n",
       "    <tr>\n",
       "      <th id=\"T_95673_level1_row12\" class=\"row_heading level1 row12\" >Maximum value</th>\n",
       "      <td id=\"T_95673_row12_col0\" class=\"data row12 col0\" >48.0</td>\n",
       "      <td id=\"T_95673_row12_col1\" class=\"data row12 col1\" >58.0</td>\n",
       "      <td id=\"T_95673_row12_col2\" class=\"data row12 col2\" >p-valuec = 0.0</td>\n",
       "    </tr>\n",
       "    <tr>\n",
       "      <th id=\"T_95673_level1_row13\" class=\"row_heading level1 row13\" >Standard deviation</th>\n",
       "      <td id=\"T_95673_row13_col0\" class=\"data row13 col0\" >4.7</td>\n",
       "      <td id=\"T_95673_row13_col1\" class=\"data row13 col1\" >4.8</td>\n",
       "      <td id=\"T_95673_row13_col2\" class=\"data row13 col2\" ></td>\n",
       "    </tr>\n",
       "    <tr>\n",
       "      <th id=\"T_95673_level1_row14\" class=\"row_heading level1 row14\" >Total values</th>\n",
       "      <td id=\"T_95673_row14_col0\" class=\"data row14 col0\" >15071.0</td>\n",
       "      <td id=\"T_95673_row14_col1\" class=\"data row14 col1\" >33199.0</td>\n",
       "      <td id=\"T_95673_row14_col2\" class=\"data row14 col2\" ></td>\n",
       "    </tr>\n",
       "  </tbody>\n",
       "</table>\n"
      ],
      "text/plain": [
       "<pandas.io.formats.style.Styler at 0x11eeae800>"
      ]
     },
     "execution_count": 40,
     "metadata": {},
     "output_type": "execute_result"
    }
   ],
   "source": [
    "\n",
    "s1 = new_df.style.format(formatter={'Female': \"{:.1f}\", 'Male': \"{:.1f}\", 'T-test p-value': \"{:.5f}\"})\n",
    "s1 = s1.set_table_styles([{'selector': 'th', 'props': 'text-align: center;'},\n",
    "                    {'selector': 'th', 'props': 'text-align: center;'},\n",
    "                    {'selector': '', 'props': 'border: 1px solid #000066;'},\n",
    "                     {'selector': 'caption','props': 'caption-side: bottom; font-size:1.25em;'}],overwrite=False, axis=1)\n",
    "\n",
    "s1.set_caption(\"Table 1. Height, Weight and Age of Male and Female athletes on winter olympics.\")\n",
    "\n",
    "for l0 in ['Height', 'Weight', 'Age']:\n",
    "    s1 = s1.set_table_styles({(l0, 'Total values'): [{'selector': '', 'props': 'border-bottom: 2px solid black;'}], \n",
    "                        (l0, 'Minimum value'): [{'selector': '.level0', 'props': 'border-bottom: 2px solid black;'}],\n",
    "                        (l0, 'Minimum value'): [{'selector': '.level0', 'props': 'border: 2px solid black;'}]},\n",
    "                        overwrite=False, axis=1)\n",
    "\n",
    "s1"
   ]
  },
  {
   "cell_type": "markdown",
   "id": "948a7074",
   "metadata": {},
   "source": [
    "##### Making tables for article"
   ]
  },
  {
   "cell_type": "code",
   "execution_count": 41,
   "id": "ffa9a7ae",
   "metadata": {},
   "outputs": [],
   "source": [
    "print(s1.to_latex(), file = open('../data/Tables_for_article/latex_table_with_style.txt', 'w'))\n",
    "print(s1.to_latex(), file = open('../data/Tables_for_article/latex_table.txt', 'w'))\n",
    "print(new_df.to_markdown(), file = open('../data/Tables_for_article/markdown_table.txt', 'w'))"
   ]
  },
  {
   "cell_type": "markdown",
   "id": "df27baba",
   "metadata": {},
   "source": [
    "### Let's compare Medal and Team variables"
   ]
  },
  {
   "cell_type": "markdown",
   "id": "e9ab0af3",
   "metadata": {},
   "source": [
    "_Making top Teams with the most number of medals of all time_"
   ]
  },
  {
   "cell_type": "code",
   "execution_count": 42,
   "id": "c74e2402",
   "metadata": {
    "scrolled": true
   },
   "outputs": [
    {
     "data": {
      "text/html": [
       "<div>\n",
       "<style scoped>\n",
       "    .dataframe tbody tr th:only-of-type {\n",
       "        vertical-align: middle;\n",
       "    }\n",
       "\n",
       "    .dataframe tbody tr th {\n",
       "        vertical-align: top;\n",
       "    }\n",
       "\n",
       "    .dataframe thead th {\n",
       "        text-align: right;\n",
       "    }\n",
       "</style>\n",
       "<table border=\"1\" class=\"dataframe\">\n",
       "  <thead>\n",
       "    <tr style=\"text-align: right;\">\n",
       "      <th></th>\n",
       "      <th>Team</th>\n",
       "      <th>Number of medals</th>\n",
       "    </tr>\n",
       "  </thead>\n",
       "  <tbody>\n",
       "    <tr>\n",
       "      <th>224</th>\n",
       "      <td>United States</td>\n",
       "      <td>2474</td>\n",
       "    </tr>\n",
       "    <tr>\n",
       "      <th>200</th>\n",
       "      <td>Soviet Union</td>\n",
       "      <td>1058</td>\n",
       "    </tr>\n",
       "    <tr>\n",
       "      <th>87</th>\n",
       "      <td>Germany</td>\n",
       "      <td>679</td>\n",
       "    </tr>\n",
       "    <tr>\n",
       "      <th>112</th>\n",
       "      <td>Italy</td>\n",
       "      <td>535</td>\n",
       "    </tr>\n",
       "    <tr>\n",
       "      <th>90</th>\n",
       "      <td>Great Britain</td>\n",
       "      <td>519</td>\n",
       "    </tr>\n",
       "    <tr>\n",
       "      <th>80</th>\n",
       "      <td>France</td>\n",
       "      <td>455</td>\n",
       "    </tr>\n",
       "    <tr>\n",
       "      <th>205</th>\n",
       "      <td>Sweden</td>\n",
       "      <td>450</td>\n",
       "    </tr>\n",
       "    <tr>\n",
       "      <th>102</th>\n",
       "      <td>Hungary</td>\n",
       "      <td>432</td>\n",
       "    </tr>\n",
       "    <tr>\n",
       "      <th>35</th>\n",
       "      <td>Canada</td>\n",
       "      <td>422</td>\n",
       "    </tr>\n",
       "    <tr>\n",
       "      <th>62</th>\n",
       "      <td>East Germany</td>\n",
       "      <td>369</td>\n",
       "    </tr>\n",
       "  </tbody>\n",
       "</table>\n",
       "</div>"
      ],
      "text/plain": [
       "              Team  Number of medals\n",
       "224  United States              2474\n",
       "200   Soviet Union              1058\n",
       "87         Germany               679\n",
       "112          Italy               535\n",
       "90   Great Britain               519\n",
       "80          France               455\n",
       "205         Sweden               450\n",
       "102        Hungary               432\n",
       "35          Canada               422\n",
       "62    East Germany               369"
      ]
     },
     "execution_count": 42,
     "metadata": {},
     "output_type": "execute_result"
    }
   ],
   "source": [
    "medals = df.loc[df.Medal.notna()].groupby('Team').Medal.count().reset_index().sort_values(by='Medal', ascending=False)\n",
    "num_medals = df.loc[df.Medal == \"Gold\"].groupby('Team').Medal.count().reset_index().\\\n",
    "sort_values(by='Medal', ascending=False).rename(columns = {'Medal': 'Number of medals'})\n",
    "num_medals.head(10)"
   ]
  },
  {
   "cell_type": "markdown",
   "id": "6c218431",
   "metadata": {},
   "source": [
    "We already can assume that some Teams have more medals then others! But it is difficult to make some correlation. Let's assume that Team and Medal variables connected via Sports variable (in particular - the number of kinds of sports Team is participated in)"
   ]
  },
  {
   "cell_type": "markdown",
   "id": "182b3138",
   "metadata": {},
   "source": [
    "#### How many kinds of sports Teams is participated in?"
   ]
  },
  {
   "cell_type": "code",
   "execution_count": 43,
   "id": "c71d2b00",
   "metadata": {},
   "outputs": [
    {
     "data": {
      "text/html": [
       "<div>\n",
       "<style scoped>\n",
       "    .dataframe tbody tr th:only-of-type {\n",
       "        vertical-align: middle;\n",
       "    }\n",
       "\n",
       "    .dataframe tbody tr th {\n",
       "        vertical-align: top;\n",
       "    }\n",
       "\n",
       "    .dataframe thead th {\n",
       "        text-align: right;\n",
       "    }\n",
       "</style>\n",
       "<table border=\"1\" class=\"dataframe\">\n",
       "  <thead>\n",
       "    <tr style=\"text-align: right;\">\n",
       "      <th></th>\n",
       "      <th>Team</th>\n",
       "      <th>Number of medals</th>\n",
       "      <th>Number of sports participated</th>\n",
       "    </tr>\n",
       "  </thead>\n",
       "  <tbody>\n",
       "    <tr>\n",
       "      <th>0</th>\n",
       "      <td>United States</td>\n",
       "      <td>2474</td>\n",
       "      <td>55</td>\n",
       "    </tr>\n",
       "    <tr>\n",
       "      <th>1</th>\n",
       "      <td>Soviet Union</td>\n",
       "      <td>1058</td>\n",
       "      <td>36</td>\n",
       "    </tr>\n",
       "    <tr>\n",
       "      <th>2</th>\n",
       "      <td>Germany</td>\n",
       "      <td>679</td>\n",
       "      <td>52</td>\n",
       "    </tr>\n",
       "    <tr>\n",
       "      <th>3</th>\n",
       "      <td>Italy</td>\n",
       "      <td>535</td>\n",
       "      <td>52</td>\n",
       "    </tr>\n",
       "    <tr>\n",
       "      <th>4</th>\n",
       "      <td>Great Britain</td>\n",
       "      <td>519</td>\n",
       "      <td>56</td>\n",
       "    </tr>\n",
       "    <tr>\n",
       "      <th>...</th>\n",
       "      <td>...</td>\n",
       "      <td>...</td>\n",
       "      <td>...</td>\n",
       "    </tr>\n",
       "    <tr>\n",
       "      <th>237</th>\n",
       "      <td>Nrnberg</td>\n",
       "      <td>1</td>\n",
       "      <td>1</td>\n",
       "    </tr>\n",
       "    <tr>\n",
       "      <th>238</th>\n",
       "      <td>Kosovo</td>\n",
       "      <td>1</td>\n",
       "      <td>5</td>\n",
       "    </tr>\n",
       "    <tr>\n",
       "      <th>239</th>\n",
       "      <td>Peru</td>\n",
       "      <td>1</td>\n",
       "      <td>26</td>\n",
       "    </tr>\n",
       "    <tr>\n",
       "      <th>240</th>\n",
       "      <td>Baby-1</td>\n",
       "      <td>1</td>\n",
       "      <td>1</td>\n",
       "    </tr>\n",
       "    <tr>\n",
       "      <th>241</th>\n",
       "      <td>Puerto Rico</td>\n",
       "      <td>1</td>\n",
       "      <td>30</td>\n",
       "    </tr>\n",
       "  </tbody>\n",
       "</table>\n",
       "<p>242 rows × 3 columns</p>\n",
       "</div>"
      ],
      "text/plain": [
       "              Team  Number of medals  Number of sports participated\n",
       "0    United States              2474                             55\n",
       "1     Soviet Union              1058                             36\n",
       "2          Germany               679                             52\n",
       "3            Italy               535                             52\n",
       "4    Great Britain               519                             56\n",
       "..             ...               ...                            ...\n",
       "237        Nrnberg                 1                              1\n",
       "238         Kosovo                 1                              5\n",
       "239           Peru                 1                             26\n",
       "240         Baby-1                 1                              1\n",
       "241    Puerto Rico                 1                             30\n",
       "\n",
       "[242 rows x 3 columns]"
      ]
     },
     "execution_count": 43,
     "metadata": {},
     "output_type": "execute_result"
    }
   ],
   "source": [
    "num_sport = df.groupby('Team').Sport.nunique()\n",
    "num_sport_medals = num_medals.merge(num_sport, on='Team').rename(columns={'Sport':'Number of sports participated'})\n",
    "num_sport_medals"
   ]
  },
  {
   "cell_type": "code",
   "execution_count": 44,
   "id": "40f570c4",
   "metadata": {},
   "outputs": [
    {
     "data": {
      "image/png": "[encoded data removed]",
      "text/plain": [
       "<Figure size 640x480 with 1 Axes>"
      ]
     },
     "metadata": {},
     "output_type": "display_data"
    }
   ],
   "source": [
    "sns.scatterplot(x=num_sport_medals['Number of medals'], y=num_sport_medals['Number of sports participated']);"
   ]
  },
  {
   "cell_type": "markdown",
   "id": "f6dcda3a",
   "metadata": {},
   "source": [
    "_It seemas like it is better to use spearman test (nonlinear, non-homoscedastic etc.)_"
   ]
  },
  {
   "cell_type": "code",
   "execution_count": 45,
   "id": "d3873172",
   "metadata": {},
   "outputs": [
    {
     "name": "stdout",
     "output_type": "stream",
     "text": [
      "Spearman's r is 0.5159069917810437\n"
     ]
    }
   ],
   "source": [
    "print(f\"Spearman's r is {stats.spearmanr(num_sport_medals['Number of medals'], num_sport_medals['Number of sports participated']).correlation}\")"
   ]
  },
  {
   "cell_type": "markdown",
   "id": "84745f3a",
   "metadata": {},
   "source": [
    "##### Let's see some additional plots !"
   ]
  },
  {
   "cell_type": "code",
   "execution_count": 46,
   "id": "ea5a08bb",
   "metadata": {},
   "outputs": [
    {
     "data": {
      "image/png": "[encoded data removed]",
      "text/plain": [
       "<Figure size 1400x400 with 2 Axes>"
      ]
     },
     "metadata": {},
     "output_type": "display_data"
    }
   ],
   "source": [
    "fig, ax = plt.subplots(1, 2, figsize = (14, 4))\n",
    "sns.barplot(data=num_sport_medals, x='Team', y='Number of medals', ax = ax[0]);\n",
    "ax[0].set(xticklabels=[]);\n",
    "ax[0].tick_params(axis='y', which='major', labelsize=7)\n",
    "sns.barplot(data=num_sport_medals, x='Team', y='Number of sports participated', ax = ax[1]);\n",
    "ax[1].set(xticklabels=[]);\n",
    "ax[1].tick_params(axis='y', which='major', labelsize=7)"
   ]
  },
  {
   "cell_type": "markdown",
   "id": "b663d0eb",
   "metadata": {},
   "source": [
    "All Teams on plots sorted by Number of medals (you can see it on 1st plot).  \n",
    "\n",
    "Some Teams have numbers of medals significantly greater then  number of sports they participated -> These Teams are professionals in their sports or it is particular sport team!. (It is gaps on 2nd plot)  \n",
    "\n",
    "Some Teams with high number of sports they participated (2nd plot - high values) have low number of medals. These Teams tries a lot of different sports, but still have small number of medals.  \n",
    "\n",
    "In common we can conclude that number of sports in which Team participate affects the number of medals they have. But there are some deviations, where some Teams are professionals in their small amount of sports (or one kind of sport) and Teams that could not find they successufull sport\n",
    "\n",
    "That is why correlation is not equal to 1!\n",
    "\n",
    "**So Team and Medal variables is connected. Particular Teams partcicpate in many kind of sports or even in only one and then recieve many or few medals!**"
   ]
  },
  {
   "cell_type": "markdown",
   "id": "7f24f711",
   "metadata": {},
   "source": [
    "## Some additional hypothesis"
   ]
  },
  {
   "cell_type": "markdown",
   "id": "6a579a95",
   "metadata": {},
   "source": [
    "### Is the average number of medals in Women and Men significant?"
   ]
  },
  {
   "cell_type": "code",
   "execution_count": 47,
   "id": "0b735ba2",
   "metadata": {},
   "outputs": [],
   "source": [
    "m_medals = df.loc[(df.Sex == 'M') & (df.Medal.notnull())].groupby('Name').Medal.count()\n",
    "f_medals = df.loc[(df.Sex == 'F') & (df.Medal.notnull())].groupby('Name').Medal.count()"
   ]
  },
  {
   "cell_type": "code",
   "execution_count": 48,
   "id": "146bc454",
   "metadata": {},
   "outputs": [
    {
     "data": {
      "text/plain": [
       "1     5264\n",
       "2     1356\n",
       "3      452\n",
       "4      176\n",
       "5       84\n",
       "6       42\n",
       "7       23\n",
       "8       16\n",
       "9       11\n",
       "10       8\n",
       "12       4\n",
       "18       1\n",
       "11       1\n",
       "Name: Medal, dtype: int64"
      ]
     },
     "execution_count": 48,
     "metadata": {},
     "output_type": "execute_result"
    }
   ],
   "source": [
    "f_medals.value_counts()"
   ]
  },
  {
   "cell_type": "markdown",
   "id": "7bef8ed8",
   "metadata": {},
   "source": [
    "_Distribution is not normal, but number of values is still big_"
   ]
  },
  {
   "cell_type": "code",
   "execution_count": 49,
   "id": "87a376f6",
   "metadata": {},
   "outputs": [
    {
     "data": {
      "text/plain": [
       "count    20763.000000\n",
       "mean         1.373838\n",
       "std          0.910985\n",
       "min          1.000000\n",
       "25%          1.000000\n",
       "50%          1.000000\n",
       "75%          1.000000\n",
       "max         28.000000\n",
       "Name: Medal, dtype: float64"
      ]
     },
     "execution_count": 49,
     "metadata": {},
     "output_type": "execute_result"
    }
   ],
   "source": [
    "m_medals.describe()"
   ]
  },
  {
   "cell_type": "code",
   "execution_count": 50,
   "id": "20b6817e",
   "metadata": {},
   "outputs": [
    {
     "data": {
      "text/plain": [
       "count    7438.000000\n",
       "mean        1.512907\n",
       "std         1.101435\n",
       "min         1.000000\n",
       "25%         1.000000\n",
       "50%         1.000000\n",
       "75%         2.000000\n",
       "max        18.000000\n",
       "Name: Medal, dtype: float64"
      ]
     },
     "execution_count": 50,
     "metadata": {},
     "output_type": "execute_result"
    }
   ],
   "source": [
    "f_medals.describe()"
   ]
  },
  {
   "cell_type": "markdown",
   "id": "8a71c64f",
   "metadata": {},
   "source": [
    "_It is better to use another test (Mann-Whitney) since distribution significantly not normal_"
   ]
  },
  {
   "cell_type": "code",
   "execution_count": 51,
   "id": "1312e7af",
   "metadata": {},
   "outputs": [
    {
     "name": "stdout",
     "output_type": "stream",
     "text": [
      "p-value is 1.2534029820483311e-26\n"
     ]
    }
   ],
   "source": [
    "mann = stats.mannwhitneyu(m_medals, f_medals)\n",
    "print(f'p-value is {mann.pvalue}')"
   ]
  },
  {
   "cell_type": "markdown",
   "id": "b1981449",
   "metadata": {},
   "source": [
    "_**Differences still significant.**_"
   ]
  },
  {
   "cell_type": "markdown",
   "id": "cce9d0f9",
   "metadata": {},
   "source": [
    "### Is weights of swimmers is significantly differ from footballer's?"
   ]
  },
  {
   "cell_type": "code",
   "execution_count": 52,
   "id": "2cc8cda4",
   "metadata": {},
   "outputs": [],
   "source": [
    "footbalers_weights = df.loc[(df.Sport == 'Football')].Weight.dropna()\n",
    "swimmers_weights = df.loc[(df.Sport == 'Swimming')].Weight.dropna()"
   ]
  },
  {
   "cell_type": "code",
   "execution_count": 53,
   "id": "d4779e04",
   "metadata": {
    "scrolled": true
   },
   "outputs": [
    {
     "data": {
      "text/plain": [
       "count    4532.000000\n",
       "mean       70.447595\n",
       "std         8.415428\n",
       "min        28.000000\n",
       "25%        65.000000\n",
       "50%        71.000000\n",
       "75%        76.000000\n",
       "max       100.000000\n",
       "Name: Weight, dtype: float64"
      ]
     },
     "execution_count": 53,
     "metadata": {},
     "output_type": "execute_result"
    }
   ],
   "source": [
    "footbalers_weights.describe()"
   ]
  },
  {
   "cell_type": "code",
   "execution_count": 54,
   "id": "548c0846",
   "metadata": {
    "scrolled": true
   },
   "outputs": [
    {
     "data": {
      "text/plain": [
       "count    18799.000000\n",
       "mean        70.589127\n",
       "std         11.332555\n",
       "min         39.000000\n",
       "25%         62.000000\n",
       "50%         70.000000\n",
       "75%         79.000000\n",
       "max        114.000000\n",
       "Name: Weight, dtype: float64"
      ]
     },
     "execution_count": 54,
     "metadata": {},
     "output_type": "execute_result"
    }
   ],
   "source": [
    "swimmers_weights.describe()"
   ]
  },
  {
   "cell_type": "markdown",
   "id": "d2b83df2",
   "metadata": {},
   "source": [
    "_There are almost no differences yet!_"
   ]
  },
  {
   "cell_type": "code",
   "execution_count": 55,
   "id": "45c11c40",
   "metadata": {},
   "outputs": [
    {
     "name": "stdout",
     "output_type": "stream",
     "text": [
      "p-value = 0.42960031735443505\n"
     ]
    }
   ],
   "source": [
    "print(f\"p-value = {stats.ttest_ind(swimmers_weights, footbalers_weights).pvalue}\")"
   ]
  },
  {
   "cell_type": "markdown",
   "id": "3ad18696",
   "metadata": {},
   "source": [
    "_They have the same weight! Is that mean that footballers would not drown..?_"
   ]
  },
  {
   "cell_type": "markdown",
   "id": "bb4ecf17",
   "metadata": {},
   "source": [
    "### Is it true that over time more Teams have become involved in games?"
   ]
  },
  {
   "cell_type": "code",
   "execution_count": 56,
   "id": "afcc4eb5",
   "metadata": {},
   "outputs": [],
   "source": [
    "num_of_nocs = df.loc[df.Season == 'Summer'].groupby('Year').Team.nunique().reset_index()"
   ]
  },
  {
   "cell_type": "code",
   "execution_count": 57,
   "id": "b3bc294f",
   "metadata": {},
   "outputs": [
    {
     "data": {
      "image/png": "[encoded data removed]",
      "text/plain": [
       "<Figure size 640x480 with 1 Axes>"
      ]
     },
     "metadata": {},
     "output_type": "display_data"
    }
   ],
   "source": [
    "sns.scatterplot(data=num_of_nocs, x = 'Year', y=\"Team\");"
   ]
  },
  {
   "cell_type": "code",
   "execution_count": 58,
   "id": "ce1d46a0",
   "metadata": {},
   "outputs": [
    {
     "name": "stdout",
     "output_type": "stream",
     "text": [
      " Test of homoscedacity (p-value): 0.002860302549603182\n"
     ]
    }
   ],
   "source": [
    "print(f\" Test of homoscedacity (p-value): {stats.levene(num_of_nocs.Year, num_of_nocs.Team).pvalue}\")"
   ]
  },
  {
   "cell_type": "markdown",
   "id": "04307ccf",
   "metadata": {},
   "source": [
    "It is better to use Spearman's test"
   ]
  },
  {
   "cell_type": "code",
   "execution_count": 59,
   "id": "a3d1c4e5",
   "metadata": {},
   "outputs": [
    {
     "name": "stdout",
     "output_type": "stream",
     "text": [
      "Spearman's r is 0.7891625615763544\n"
     ]
    }
   ],
   "source": [
    "print(f\"Spearman's r is {stats.spearmanr(num_of_nocs.Year, num_of_nocs.Team).correlation}\")"
   ]
  },
  {
   "cell_type": "markdown",
   "id": "a226b855",
   "metadata": {},
   "source": [
    "_More teams each year!_"
   ]
  }
 ],
 "metadata": {
  "kernelspec": {
   "display_name": "Python 3 (ipykernel)",
   "language": "python",
   "name": "python3"
  },
  "language_info": {
   "codemirror_mode": {
    "name": "ipython",
    "version": 3
   },
   "file_extension": ".py",
   "mimetype": "text/x-python",
   "name": "python",
   "nbconvert_exporter": "python",
   "pygments_lexer": "ipython3",
   "version": "3.10.8"
  },
  "toc-autonumbering": false,
  "toc-showcode": false,
  "toc-showmarkdowntxt": true,
  "toc-showtags": false
 },
 "nbformat": 4,
 "nbformat_minor": 5
}
